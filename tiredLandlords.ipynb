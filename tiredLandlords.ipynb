{
 "cells": [
  {
   "cell_type": "code",
   "execution_count": 87,
   "metadata": {},
   "outputs": [],
   "source": [
    "from selenium import webdriver\n",
    "from selenium.webdriver.common.keys import Keys\n",
    "from selenium.webdriver.common.by import By\n",
    "from selenium.webdriver.support.ui import WebDriverWait\n",
    "from selenium.webdriver.support import expected_conditions as EC\n",
    "import time, datetime, os\n",
    "from pathlib import Path\n",
    "\n",
    "## Create folder with today's date\n",
    "today = datetime.date.today()  \n",
    "todaystr = today.isoformat()   \n",
    "dir_path = os.getcwd()\n",
    "save_dir = dir_path + \"/\" + todaystr\n",
    "os.mkdir(save_dir)\n",
    "\n",
    "## Set the target save location and Firefox preferences to auto download csv files\n",
    "profile = webdriver.FirefoxProfile()\n",
    "profile.set_preference(\"browser.download.folderList\", 2)\n",
    "profile.set_preference(\"browser.download.manager.showWhenStarting\", False)\n",
    "profile.set_preference(\"browser.download.dir\", save_dir)\n",
    "profile.set_preference(\"browser.helperApps.neverAsk.saveToDisk\", \"text/csv\")\n",
    "\n",
    "## Create the Firefox session\n",
    "driver = webdriver.Firefox(firefox_profile=profile)\n",
    "\n"
   ]
  },
  {
   "cell_type": "code",
   "execution_count": 88,
   "metadata": {},
   "outputs": [],
   "source": [
    "## Get past the disclaimer splash screen\n",
    "driver.get(\"http://casesearch.courts.state.md.us/casesearch/inquiry-index.jsp\")\n",
    "check = driver.find_element_by_name(\"disclaimer\")\n",
    "check.click()\n",
    "continue_button = driver.find_element_by_name(\"action\")\n",
    "continue_button.click()\n",
    "\n",
    "assert \"No results found.\" not in driver.page_source"
   ]
  },
  {
   "cell_type": "code",
   "execution_count": 89,
   "metadata": {},
   "outputs": [],
   "source": [
    "## The search page won't let you search for all cases, need to do 26 searches (A-Z)\n",
    "\n",
    "## Enter search criteria\n",
    "last_name = driver.find_element_by_name(\"lastName\")\n",
    "last_name.clear()\n",
    "last_name.send_keys(\"E\") ## Turn to variable\n",
    "driver.find_element_by_xpath(\"//select[@name='partyType']/option[text()='Plaintiff']\").click()\n",
    "driver.find_element_by_xpath(\"//input[@name='site' and @value='CIVIL']\").click()\n",
    "driver.find_element_by_xpath(\"//input[@name='courtSystem' and @value='D']\").click()\n",
    "driver.find_element_by_xpath(\"//select[@name='countyName']/option[text()='Charles County']\").click()\n",
    "last_name = driver.find_element_by_name(\"filingStart\")\n",
    "last_name.clear()\n",
    "last_name.send_keys(\"6/1/2019\")  ## Turn to variable\n",
    "last_name = driver.find_element_by_name(\"filingEnd\")\n",
    "last_name.clear()\n",
    "last_name.send_keys(\"9/30/2019\")  ## Turn to variable\n",
    "driver.find_element_by_xpath(\"//input[@name='action' and @value='Search']\").click()\n",
    "\n",
    "element = WebDriverWait(driver, 10).until(\n",
    "        EC.presence_of_element_located((By.LINK_TEXT, \"CSV\"))).click()\n"
   ]
  },
  {
   "cell_type": "code",
   "execution_count": 62,
   "metadata": {},
   "outputs": [],
   "source": [
    "driver.find_element_by_link_text('CSV').click()"
   ]
  },
  {
   "cell_type": "code",
   "execution_count": 24,
   "metadata": {},
   "outputs": [],
   "source": [
    "driver.close()"
   ]
  },
  {
   "cell_type": "code",
   "execution_count": null,
   "metadata": {},
   "outputs": [],
   "source": []
  }
 ],
 "metadata": {
  "kernelspec": {
   "display_name": "Python 3",
   "language": "python",
   "name": "python3"
  },
  "language_info": {
   "codemirror_mode": {
    "name": "ipython",
    "version": 3
   },
   "file_extension": ".py",
   "mimetype": "text/x-python",
   "name": "python",
   "nbconvert_exporter": "python",
   "pygments_lexer": "ipython3",
   "version": "3.7.4"
  }
 },
 "nbformat": 4,
 "nbformat_minor": 2
}
