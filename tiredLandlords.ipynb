{
 "cells": [
  {
   "cell_type": "markdown",
   "metadata": {},
   "source": [
    "# Scraping data from MD Case Search"
   ]
  },
  {
   "cell_type": "code",
   "execution_count": 404,
   "metadata": {},
   "outputs": [],
   "source": [
    "from selenium import webdriver\n",
    "from selenium.webdriver.common.keys import Keys\n",
    "from selenium.webdriver.common.by import By\n",
    "from selenium.webdriver.support.ui import WebDriverWait\n",
    "from selenium.webdriver.support import expected_conditions as EC\n",
    "from bs4 import BeautifulSoup\n",
    "import time, datetime, os\n",
    "from pathlib import Path\n",
    "import string\n",
    "\n",
    "## Create folder with today's date\n",
    "today = datetime.date.today()  \n",
    "todaystr = today.isoformat()   \n",
    "dir_path = os.getcwd()\n",
    "save_dir = dir_path + \"/\" + todaystr\n",
    "if not os.path.exists(save_dir):\n",
    "    os.mkdir(save_dir)\n",
    "\n",
    "\n",
    "## Set the target save location and Firefox preferences to auto download csv files\n",
    "profile = webdriver.FirefoxProfile()\n",
    "profile.set_preference(\"browser.download.folderList\", 2)\n",
    "profile.set_preference(\"browser.download.manager.showWhenStarting\", False)\n",
    "profile.set_preference(\"browser.download.dir\", save_dir)\n",
    "profile.set_preference(\"browser.helperApps.neverAsk.saveToDisk\", \"text/csv\")\n",
    "\n",
    "## Create the Firefox session\n",
    "driver = webdriver.Firefox(firefox_profile=profile)\n",
    "## Get past the disclaimer splash screen\n",
    "driver.get(\"http://casesearch.courts.state.md.us/casesearch/inquiry-index.jsp\")\n",
    "check = driver.find_element_by_name(\"disclaimer\")\n",
    "check.click()\n",
    "continue_button = driver.find_element_by_name(\"action\")\n",
    "continue_button.click()\n",
    "\n",
    "assert \"No results found.\" not in driver.page_source\n",
    "\n"
   ]
  },
  {
   "cell_type": "markdown",
   "metadata": {},
   "source": [
    "#### Remember to insert dates"
   ]
  },
  {
   "cell_type": "code",
   "execution_count": 409,
   "metadata": {},
   "outputs": [],
   "source": [
    "## The search page won't let you search for all cases, need to do 26 searches (A-Z)\n",
    "county_list = ['Charles', \"Saint\", 'Calvert']\n",
    "\n",
    "for county in county_list:\n",
    "#     for last_initial in string.ascii_lowercase:\n",
    "    for last_initial in ['y']:#, 'c', 'd']:\n",
    "        try:\n",
    "            ## Enter search criteria\n",
    "            last_name = driver.find_element_by_name(\"lastName\")\n",
    "            last_name.clear()\n",
    "            last_name.send_keys(last_initial)\n",
    "            driver.find_element_by_xpath(\"//select[@name='partyType']/option[text()='Plaintiff']\").click()\n",
    "            driver.find_element_by_xpath(\"//input[@name='site' and @value='CIVIL']\").click()\n",
    "            driver.find_element_by_xpath(\"//input[@name='courtSystem' and @value='D']\").click()\n",
    "            driver.find_element_by_xpath(\"//select[@name='countyName']/option[contains(text(), '%s')]\" % county).click()\n",
    "            last_name = driver.find_element_by_name(\"filingStart\")\n",
    "            last_name.clear()\n",
    "            last_name.send_keys(\"6/1/2019\")  ## Turn to variable\n",
    "            last_name = driver.find_element_by_name(\"filingEnd\")\n",
    "            last_name.clear()\n",
    "            last_name.send_keys(\"9/30/2019\")  ## Turn to variable\n",
    "            driver.find_element_by_xpath(\"//input[@name='action' and @value='Search']\").click()\n",
    "\n",
    "            element = WebDriverWait(driver, 10).until(\n",
    "                    EC.presence_of_element_located((By.LINK_TEXT, \"CSV\"))).click() ## need to add logic for when X isn't found\n",
    "            driver.back()\n",
    "            time.sleep(6)\n",
    "        except:\n",
    "            print('No cases for plantiffs starting with ', last_initial)\n",
    "    "
   ]
  },
  {
   "cell_type": "markdown",
   "metadata": {},
   "source": [
    "# Concatenate csv exports to dataframe"
   ]
  },
  {
   "cell_type": "code",
   "execution_count": 410,
   "metadata": {},
   "outputs": [
    {
     "data": {
      "text/plain": [
       "'/Users/joshuahogge/Projects/tiredLandlords/2019-10-06'"
      ]
     },
     "execution_count": 410,
     "metadata": {},
     "output_type": "execute_result"
    }
   ],
   "source": [
    "os.chdir(save_dir)\n",
    "os.getcwd()"
   ]
  },
  {
   "cell_type": "code",
   "execution_count": 414,
   "metadata": {},
   "outputs": [],
   "source": [
    "import csv\n",
    "import glob\n",
    "\n",
    "# Adding a header to each file\n",
    "path = save_dir\n",
    "all_files = glob.glob(path + \"/*.csv\")\n",
    "\n",
    "for filename in all_files:\n",
    "    with open(filename, newline='') as f:\n",
    "        r = csv.reader(f)\n",
    "        data = [line for line in r]\n",
    "    with open(filename,'w',newline='') as f:\n",
    "        w = csv.writer(f)\n",
    "        w.writerow(['Case Number', 'Name', 'Date of Birth', 'Party Type', 'Court', \n",
    "                        'Case Type', 'Case Status', 'Filing Date', 'Case Caption'])\n",
    "        w.writerows(data)"
   ]
  },
  {
   "cell_type": "code",
   "execution_count": 415,
   "metadata": {},
   "outputs": [
    {
     "data": {
      "text/plain": [
       "(30, 8)"
      ]
     },
     "execution_count": 415,
     "metadata": {},
     "output_type": "execute_result"
    }
   ],
   "source": [
    "import pandas as pd\n",
    "# Concatenate csv to single dataframe\n",
    "df = pd.concat([pd.read_csv(f, index_col=0) for f in all_files])\n",
    "df.shape"
   ]
  },
  {
   "cell_type": "markdown",
   "metadata": {},
   "source": [
    "# Filtering down to the good stuff"
   ]
  },
  {
   "cell_type": "code",
   "execution_count": 416,
   "metadata": {},
   "outputs": [
    {
     "data": {
      "text/plain": [
       "(30, 8)"
      ]
     },
     "execution_count": 416,
     "metadata": {},
     "output_type": "execute_result"
    }
   ],
   "source": [
    "df.shape"
   ]
  },
  {
   "cell_type": "code",
   "execution_count": 417,
   "metadata": {
    "scrolled": false
   },
   "outputs": [
    {
     "name": "stderr",
     "output_type": "stream",
     "text": [
      "/Users/joshuahogge/anaconda3/envs/tLL/lib/python3.7/site-packages/ipykernel_launcher.py:2: SettingWithCopyWarning: \n",
      "A value is trying to be set on a copy of a slice from a DataFrame\n",
      "\n",
      "See the caveats in the documentation: http://pandas.pydata.org/pandas-docs/stable/user_guide/indexing.html#returning-a-view-versus-a-copy\n",
      "  \n"
     ]
    },
    {
     "data": {
      "text/html": [
       "<div>\n",
       "<style scoped>\n",
       "    .dataframe tbody tr th:only-of-type {\n",
       "        vertical-align: middle;\n",
       "    }\n",
       "\n",
       "    .dataframe tbody tr th {\n",
       "        vertical-align: top;\n",
       "    }\n",
       "\n",
       "    .dataframe thead th {\n",
       "        text-align: right;\n",
       "    }\n",
       "</style>\n",
       "<table border=\"1\" class=\"dataframe\">\n",
       "  <thead>\n",
       "    <tr style=\"text-align: right;\">\n",
       "      <th></th>\n",
       "      <th>Name</th>\n",
       "      <th>Date of Birth</th>\n",
       "      <th>Party Type</th>\n",
       "      <th>Court</th>\n",
       "      <th>Case Type</th>\n",
       "      <th>Case Status</th>\n",
       "      <th>Filing Date</th>\n",
       "      <th>Case Caption</th>\n",
       "    </tr>\n",
       "    <tr>\n",
       "      <th>Case Number</th>\n",
       "      <th></th>\n",
       "      <th></th>\n",
       "      <th></th>\n",
       "      <th></th>\n",
       "      <th></th>\n",
       "      <th></th>\n",
       "      <th></th>\n",
       "      <th></th>\n",
       "    </tr>\n",
       "  </thead>\n",
       "  <tbody>\n",
       "    <tr>\n",
       "      <td>D042LT19002926</td>\n",
       "      <td>Yasmine, Nuzhat</td>\n",
       "      <td>NaN</td>\n",
       "      <td>Plaintiff</td>\n",
       "      <td>Charles County District Court</td>\n",
       "      <td>FTPR</td>\n",
       "      <td>Closed</td>\n",
       "      <td>08/07/2019</td>\n",
       "      <td>NUZHAT YASMINE vs. VANESSA HARDEN, et al.</td>\n",
       "    </tr>\n",
       "    <tr>\n",
       "      <td>D041LT19000404</td>\n",
       "      <td>Yardlely Hills</td>\n",
       "      <td>NaN</td>\n",
       "      <td>Plaintiff</td>\n",
       "      <td>Calvert County District Court</td>\n",
       "      <td>FTPR</td>\n",
       "      <td>Closed</td>\n",
       "      <td>06/05/2019</td>\n",
       "      <td>YARDLELY HILLS vs. MONICA BROWN, et al.</td>\n",
       "    </tr>\n",
       "    <tr>\n",
       "      <td>D041LT19000492</td>\n",
       "      <td>Yardley Hills  II</td>\n",
       "      <td>NaN</td>\n",
       "      <td>Plaintiff</td>\n",
       "      <td>Calvert County District Court</td>\n",
       "      <td>FTPR</td>\n",
       "      <td>Closed</td>\n",
       "      <td>07/03/2019</td>\n",
       "      <td>YARDLEY HILLS  II vs. CALVIN BELL, Sr.</td>\n",
       "    </tr>\n",
       "    <tr>\n",
       "      <td>D041LT19000491</td>\n",
       "      <td>Yardley Hills I</td>\n",
       "      <td>NaN</td>\n",
       "      <td>Plaintiff</td>\n",
       "      <td>Calvert County District Court</td>\n",
       "      <td>FTPR</td>\n",
       "      <td>Closed</td>\n",
       "      <td>07/03/2019</td>\n",
       "      <td>NaN</td>\n",
       "    </tr>\n",
       "    <tr>\n",
       "      <td>D041LT19000493</td>\n",
       "      <td>Yardley Hills II</td>\n",
       "      <td>NaN</td>\n",
       "      <td>Plaintiff</td>\n",
       "      <td>Calvert County District Court</td>\n",
       "      <td>FTPR</td>\n",
       "      <td>Closed</td>\n",
       "      <td>07/03/2019</td>\n",
       "      <td>NaN</td>\n",
       "    </tr>\n",
       "    <tr>\n",
       "      <td>D041LT19000490</td>\n",
       "      <td>Yardley Hills Partnership I</td>\n",
       "      <td>NaN</td>\n",
       "      <td>Plaintiff</td>\n",
       "      <td>Calvert County District Court</td>\n",
       "      <td>FTPR</td>\n",
       "      <td>Closed</td>\n",
       "      <td>07/03/2019</td>\n",
       "      <td>NaN</td>\n",
       "    </tr>\n",
       "    <tr>\n",
       "      <td>D041LT19000531</td>\n",
       "      <td>Yardley Hills Partnership</td>\n",
       "      <td>NaN</td>\n",
       "      <td>Plaintiff</td>\n",
       "      <td>Calvert County District Court</td>\n",
       "      <td>FTPR</td>\n",
       "      <td>Closed</td>\n",
       "      <td>07/10/2019</td>\n",
       "      <td>NaN</td>\n",
       "    </tr>\n",
       "    <tr>\n",
       "      <td>D041LT19000397</td>\n",
       "      <td>Yardley Hills</td>\n",
       "      <td>NaN</td>\n",
       "      <td>Plaintiff</td>\n",
       "      <td>Calvert County District Court</td>\n",
       "      <td>FTPR</td>\n",
       "      <td>Closed</td>\n",
       "      <td>06/05/2019</td>\n",
       "      <td>YARDLEY HILLS vs. SHERVON MACKALL</td>\n",
       "    </tr>\n",
       "  </tbody>\n",
       "</table>\n",
       "</div>"
      ],
      "text/plain": [
       "                                       Name  Date of Birth Party Type  \\\n",
       "Case Number                                                             \n",
       "D042LT19002926              Yasmine, Nuzhat            NaN  Plaintiff   \n",
       "D041LT19000404               Yardlely Hills            NaN  Plaintiff   \n",
       "D041LT19000492            Yardley Hills  II            NaN  Plaintiff   \n",
       "D041LT19000491              Yardley Hills I            NaN  Plaintiff   \n",
       "D041LT19000493             Yardley Hills II            NaN  Plaintiff   \n",
       "D041LT19000490  Yardley Hills Partnership I            NaN  Plaintiff   \n",
       "D041LT19000531    Yardley Hills Partnership            NaN  Plaintiff   \n",
       "D041LT19000397                Yardley Hills            NaN  Plaintiff   \n",
       "\n",
       "                                        Court Case Type Case Status  \\\n",
       "Case Number                                                           \n",
       "D042LT19002926  Charles County District Court      FTPR      Closed   \n",
       "D041LT19000404  Calvert County District Court      FTPR      Closed   \n",
       "D041LT19000492  Calvert County District Court      FTPR      Closed   \n",
       "D041LT19000491  Calvert County District Court      FTPR      Closed   \n",
       "D041LT19000493  Calvert County District Court      FTPR      Closed   \n",
       "D041LT19000490  Calvert County District Court      FTPR      Closed   \n",
       "D041LT19000531  Calvert County District Court      FTPR      Closed   \n",
       "D041LT19000397  Calvert County District Court      FTPR      Closed   \n",
       "\n",
       "               Filing Date                               Case Caption  \n",
       "Case Number                                                            \n",
       "D042LT19002926  08/07/2019  NUZHAT YASMINE vs. VANESSA HARDEN, et al.  \n",
       "D041LT19000404  06/05/2019    YARDLELY HILLS vs. MONICA BROWN, et al.  \n",
       "D041LT19000492  07/03/2019     YARDLEY HILLS  II vs. CALVIN BELL, Sr.  \n",
       "D041LT19000491  07/03/2019                                        NaN  \n",
       "D041LT19000493  07/03/2019                                        NaN  \n",
       "D041LT19000490  07/03/2019                                        NaN  \n",
       "D041LT19000531  07/10/2019                                        NaN  \n",
       "D041LT19000397  06/05/2019          YARDLEY HILLS vs. SHERVON MACKALL  "
      ]
     },
     "execution_count": 417,
     "metadata": {},
     "output_type": "execute_result"
    }
   ],
   "source": [
    "da = df[df['Case Type'] == 'FTPR'] # Failure to Pay Rent\n",
    "da.drop_duplicates(subset=\"Name\", inplace=True)\n",
    "da.head(10)"
   ]
  },
  {
   "cell_type": "code",
   "execution_count": 418,
   "metadata": {},
   "outputs": [
    {
     "data": {
      "text/plain": [
       "(8, 8)"
      ]
     },
     "execution_count": 418,
     "metadata": {},
     "output_type": "execute_result"
    }
   ],
   "source": [
    "da.shape"
   ]
  },
  {
   "cell_type": "markdown",
   "metadata": {},
   "source": [
    "# Getting case data"
   ]
  },
  {
   "cell_type": "code",
   "execution_count": 429,
   "metadata": {},
   "outputs": [
    {
     "name": "stdout",
     "output_type": "stream",
     "text": [
      "                  name                   address  \\\n",
      "LL0    [MASOOD, AHSAN]  [2207 S SANCTUARY DRIVE]   \n",
      "LL1  [YASMINE, NUZHAT]     [2207 S SANCTUARY DR]   \n",
      "\n",
      "                                   city  \n",
      "LL0  [NEW BERLINState:WIZip Code:53151]  \n",
      "LL1  [NEW BERLINState:WIZip Code:53151]  \n",
      "                name                        address  \\\n",
      "LL0  [WRENN, ALYSSA]  [700 YARDLELY DRIVE, SUITE A]   \n",
      "\n",
      "                                         city  \n",
      "LL0  [PRINCE FREDERICKState:MDZip Code:20678]  \n",
      "                name                       address  \\\n",
      "LL0  [WRENN, ALYSSA]  [700 YARDLEY DRIVE, SUITE A]   \n",
      "\n",
      "                                         city  \n",
      "LL0  [PRINCE FREDERICKState:MDZip Code:20678]  \n",
      "                name                       address  \\\n",
      "LL0  [WRENN, ALYSSA]  [700 YARDLEY DRIVE, SUITE A]   \n",
      "\n",
      "                                         city  \n",
      "LL0  [PRINCE FREDERICKState:MDZip Code:20678]  \n",
      "                name                       address  \\\n",
      "LL0  [WRENN, ALYSSA]  [700 YARDLEY DRIVE, SUITE A]   \n",
      "\n",
      "                                         city  \n",
      "LL0  [PRINCE FREDERICKState:MDZip Code:20678]  \n",
      "                name                address  \\\n",
      "LL0  [WRENN, ALYSSA]  [700 YARDLEY HILLS I]   \n",
      "\n",
      "                                         city  \n",
      "LL0  [PRINCE FREDERICKState:MDZip Code:20678]  \n",
      "                name                       address  \\\n",
      "LL0  [WRENN, ALYSSA]  [700 YARDLEY DRIVE, SUITE A]   \n",
      "\n",
      "                                         city  \n",
      "LL0  [PRINCE FREDERICKState:MDZip Code:20678]  \n",
      "                name                       address  \\\n",
      "LL0  [WRENN, ALYSSA]  [700 YARDLEY DRIVE, SUITE A]   \n",
      "\n",
      "                                         city  \n",
      "LL0  [PRINCE FREDERICKState:MDZip Code:20678]  \n"
     ]
    }
   ],
   "source": [
    "case_data_df = pd.DataFrame()\n",
    "ll_df = pd.DataFrame()\n",
    "\n",
    "for index, row in da.iterrows():\n",
    "    # Enter case data on query page\n",
    "    court = row['Court'].split(' ')[0]\n",
    "    driver.find_element_by_xpath(\"//select[@name='locationCode']/option[contains(text(), '%s')]\" % court).click()\n",
    "    case_number = driver.find_element_by_name(\"caseId\")\n",
    "    case_number.clear()\n",
    "    case_number.send_keys(index) \n",
    "    try:\n",
    "        driver.find_element_by_xpath(\"//input[@name='action' and @value='Get Case']\").click()\n",
    "    except:\n",
    "        print('Case number %s not found' % str(da['Case Number'])) \n",
    "        \n",
    "    # Selenium is bad at finding data in relation to headers, so this is Beautiful Soup finding all of\n",
    "    # the landlord names, which will help pick out the landlor info after the table data is scraped in the next step.\n",
    "    soup = BeautifulSoup(driver.page_source, 'html.parser')\n",
    "#     print('clearing landlords')\n",
    "    landlords = []\n",
    "    for h5 in soup.find_all('h5'):\n",
    "        if h5.text == 'Landlord / Plaintiff' or h5.text == \"Landlord's Agent\":\n",
    "            landlords.append(h5.find_next('span', 'Value').contents)\n",
    "#     print('landlord list')\n",
    "#     print(landlords)\n",
    "    \n",
    "    # Mine data\n",
    "    # This pulls all the info from the table on the page\n",
    "    case_data = []\n",
    "    for tr in driver.find_elements_by_xpath('//table//tr'):\n",
    "        tds = tr.find_elements_by_tag_name('td')\n",
    "        case_data.append([td.text for td in tds])\n",
    "\n",
    "    case_clean = []\n",
    "    # Cleaning out website header info\n",
    "    [case_clean.append(a) for a in case_data if len(a) == 2]\n",
    "\n",
    "    # Giving each item a unique suffix so writing to dictionary doesn't overwrite repeated info\n",
    "    num_names = 0\n",
    "    repeated_info = ['Name:', 'Address:', 'City:']\n",
    "    for i in case_clean:\n",
    "        if i[0] in repeated_info:\n",
    "            i[0] = i[0] + str(num_names)\n",
    "        num_names += 1\n",
    "\n",
    "    # Casting do dict for import into pandas\n",
    "    case_dict = {}\n",
    "    case_dict = {d[0]: d[1:] for d in case_clean}\n",
    "#     print(case_dict)\n",
    "\n",
    "    # Grabbing landlord contact data     \n",
    "    ll_contacts = {}\n",
    "    num_ll = 0\n",
    "    name_index = 0\n",
    "    list_keys = list(case_dict.keys())\n",
    "    for enum, key in enumerate(list_keys):\n",
    "        if case_dict[key] in landlords:\n",
    "            ll_contacts[\"LL\"+str(num_ll)] = [case_dict[list_keys[enum]], case_dict[list_keys[enum+1]],case_dict[list_keys[enum+2]]]\n",
    "            num_ll +=1    \n",
    "#     print(ll_contacts)\n",
    "    \n",
    "    # Writing contacts to big landlord list\n",
    "    dl  = pd.DataFrame.from_dict(ll_contacts, orient='index', columns=['name', 'address', 'city'])\n",
    "#     print(dl)\n",
    "    ll_df = pd.concat([ll_df, dl], axis=0, ignore_index=True, sort=False)\n",
    "#     print(ll_df)\n",
    "    \n",
    "    driver.back()\n",
    "    time.sleep(1)"
   ]
  },
  {
   "cell_type": "markdown",
   "metadata": {},
   "source": [
    "## Classify each row as a person (or business)"
   ]
  },
  {
   "cell_type": "code",
   "execution_count": 430,
   "metadata": {},
   "outputs": [
    {
     "data": {
      "text/html": [
       "<div>\n",
       "<style scoped>\n",
       "    .dataframe tbody tr th:only-of-type {\n",
       "        vertical-align: middle;\n",
       "    }\n",
       "\n",
       "    .dataframe tbody tr th {\n",
       "        vertical-align: top;\n",
       "    }\n",
       "\n",
       "    .dataframe thead th {\n",
       "        text-align: right;\n",
       "    }\n",
       "</style>\n",
       "<table border=\"1\" class=\"dataframe\">\n",
       "  <thead>\n",
       "    <tr style=\"text-align: right;\">\n",
       "      <th></th>\n",
       "      <th>name</th>\n",
       "      <th>address</th>\n",
       "      <th>city</th>\n",
       "    </tr>\n",
       "  </thead>\n",
       "  <tbody>\n",
       "    <tr>\n",
       "      <td>0</td>\n",
       "      <td>MASOOD, AHSAN</td>\n",
       "      <td>2207 S SANCTUARY DRIVE</td>\n",
       "      <td>NEW BERLINState:WIZip Code:53151</td>\n",
       "    </tr>\n",
       "    <tr>\n",
       "      <td>1</td>\n",
       "      <td>YASMINE, NUZHAT</td>\n",
       "      <td>2207 S SANCTUARY DR</td>\n",
       "      <td>NEW BERLINState:WIZip Code:53151</td>\n",
       "    </tr>\n",
       "    <tr>\n",
       "      <td>2</td>\n",
       "      <td>WRENN, ALYSSA</td>\n",
       "      <td>700 YARDLELY DRIVE, SUITE A</td>\n",
       "      <td>PRINCE FREDERICKState:MDZip Code:20678</td>\n",
       "    </tr>\n",
       "  </tbody>\n",
       "</table>\n",
       "</div>"
      ],
      "text/plain": [
       "              name                      address  \\\n",
       "0    MASOOD, AHSAN       2207 S SANCTUARY DRIVE   \n",
       "1  YASMINE, NUZHAT          2207 S SANCTUARY DR   \n",
       "2    WRENN, ALYSSA  700 YARDLELY DRIVE, SUITE A   \n",
       "\n",
       "                                     city  \n",
       "0        NEW BERLINState:WIZip Code:53151  \n",
       "1        NEW BERLINState:WIZip Code:53151  \n",
       "2  PRINCE FREDERICKState:MDZip Code:20678  "
      ]
     },
     "execution_count": 430,
     "metadata": {},
     "output_type": "execute_result"
    }
   ],
   "source": [
    "ll_df.head()\n",
    "ll_str = ll_df\n",
    "\n",
    "ll_str['name'] = ll_str.name.apply(', '.join)\n",
    "ll_str['address'] = ll_str.address.apply(', '.join)\n",
    "ll_str['city'] = ll_str.city.apply(', '.join)\n",
    "ll_str.drop_duplicates(subset=\"address\", inplace=True)\n",
    "ll_str\n"
   ]
  },
  {
   "cell_type": "code",
   "execution_count": 431,
   "metadata": {},
   "outputs": [],
   "source": [
    "ll_str.to_csv(os.path.join(save_dir,'for_Classification.csv'))\n"
   ]
  },
  {
   "cell_type": "markdown",
   "metadata": {},
   "source": [
    "Open forClassification.csv, add a column 'isPerson', mark 1 for a person's name, 0 for a business name. Export to csv (with column names) as classified"
   ]
  },
  {
   "cell_type": "code",
   "execution_count": 434,
   "metadata": {},
   "outputs": [
    {
     "data": {
      "text/html": [
       "<div>\n",
       "<style scoped>\n",
       "    .dataframe tbody tr th:only-of-type {\n",
       "        vertical-align: middle;\n",
       "    }\n",
       "\n",
       "    .dataframe tbody tr th {\n",
       "        vertical-align: top;\n",
       "    }\n",
       "\n",
       "    .dataframe thead th {\n",
       "        text-align: right;\n",
       "    }\n",
       "</style>\n",
       "<table border=\"1\" class=\"dataframe\">\n",
       "  <thead>\n",
       "    <tr style=\"text-align: right;\">\n",
       "      <th></th>\n",
       "      <th>name</th>\n",
       "      <th>isPerson</th>\n",
       "      <th>address</th>\n",
       "      <th>city</th>\n",
       "    </tr>\n",
       "  </thead>\n",
       "  <tbody>\n",
       "    <tr>\n",
       "      <td>0</td>\n",
       "      <td>MASOOD, AHSAN</td>\n",
       "      <td>1</td>\n",
       "      <td>2207 S SANCTUARY DRIVE</td>\n",
       "      <td>NEW BERLINState:WIZip Code:53151</td>\n",
       "    </tr>\n",
       "    <tr>\n",
       "      <td>1</td>\n",
       "      <td>YASMINE, NUZHAT</td>\n",
       "      <td>1</td>\n",
       "      <td>2207 S SANCTUARY DR</td>\n",
       "      <td>NEW BERLINState:WIZip Code:53151</td>\n",
       "    </tr>\n",
       "    <tr>\n",
       "      <td>2</td>\n",
       "      <td>WRENN, ALYSSA</td>\n",
       "      <td>1</td>\n",
       "      <td>700 YARDLELY DRIVE, SUITE A</td>\n",
       "      <td>PRINCE FREDERICKState:MDZip Code:20678</td>\n",
       "    </tr>\n",
       "  </tbody>\n",
       "</table>\n",
       "</div>"
      ],
      "text/plain": [
       "              name  isPerson                      address  \\\n",
       "0    MASOOD, AHSAN         1       2207 S SANCTUARY DRIVE   \n",
       "1  YASMINE, NUZHAT         1          2207 S SANCTUARY DR   \n",
       "2    WRENN, ALYSSA         1  700 YARDLELY DRIVE, SUITE A   \n",
       "\n",
       "                                     city  \n",
       "0        NEW BERLINState:WIZip Code:53151  \n",
       "1        NEW BERLINState:WIZip Code:53151  \n",
       "2  PRINCE FREDERICKState:MDZip Code:20678  "
      ]
     },
     "execution_count": 434,
     "metadata": {},
     "output_type": "execute_result"
    }
   ],
   "source": [
    "dr = pd.read_csv(os.path.join(save_dir, 'classified.csv'), header=0, index_col=0)\n",
    "dr.head()"
   ]
  },
  {
   "cell_type": "markdown",
   "metadata": {},
   "source": [
    "# Formatting and writing to Click2Mail format"
   ]
  },
  {
   "cell_type": "code",
   "execution_count": 435,
   "metadata": {},
   "outputs": [],
   "source": [
    "\n",
    "\n",
    "def person_first_name(isPerson, name):\n",
    "    if isPerson == 1:\n",
    "        return name.split(\",\")[1][1:]\n",
    "    else:\n",
    "        return name\n",
    "    \n",
    "def person_last_name(isPerson, name):\n",
    "    if isPerson == 1:\n",
    "        return name.split(\",\")[0]\n",
    "    else:\n",
    "        return ''\n",
    "\n",
    "    \n",
    "dd = pd.DataFrame()\n",
    "dd['First_name'] = dr.apply(lambda x: person_first_name(x['isPerson'], x['name']), axis=1) \n",
    "dd['Last_name'] = dr.apply(lambda x: person_last_name(x['isPerson'], x['name']), axis=1) \n",
    "\n",
    "                                              \n",
    "# dd['Last_name']\n",
    "dd['Organization'] = ''\n",
    "dd['Address1'] = dr['address']\n",
    "dd['Address2'] = ''\n",
    "dd['Address3'] = ''\n",
    "dd['City'] = dr['city'].str.split('State:', expand=True)[0]\n",
    "dd['State'] = dr['city'].str.split('State:', expand=True)[1].str.split('Zip Code:', expand=True)[0]\n",
    "dd['Zip'] = dr['city'].str.split('Zip Code:', expand=True)[1]\n",
    "dd['Country_non-US'] = ''\n",
    "\n",
    "dd.to_csv(os.path.join(save_dir, 'tiredLandlords.csv'))"
   ]
  },
  {
   "cell_type": "code",
   "execution_count": null,
   "metadata": {},
   "outputs": [],
   "source": []
  }
 ],
 "metadata": {
  "kernelspec": {
   "display_name": "Python 3",
   "language": "python",
   "name": "python3"
  },
  "language_info": {
   "codemirror_mode": {
    "name": "ipython",
    "version": 3
   },
   "file_extension": ".py",
   "mimetype": "text/x-python",
   "name": "python",
   "nbconvert_exporter": "python",
   "pygments_lexer": "ipython3",
   "version": "3.7.4"
  }
 },
 "nbformat": 4,
 "nbformat_minor": 2
}
