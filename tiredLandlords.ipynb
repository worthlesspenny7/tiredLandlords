{
 "cells": [
  {
   "cell_type": "markdown",
   "metadata": {},
   "source": [
    "# Scraping data from MD Case Search"
   ]
  },
  {
   "cell_type": "code",
   "execution_count": 59,
   "metadata": {},
   "outputs": [],
   "source": [
    "from selenium import webdriver\n",
    "from selenium.webdriver.common.keys import Keys\n",
    "from selenium.webdriver.common.by import By\n",
    "from selenium.webdriver.support.ui import WebDriverWait\n",
    "from selenium.webdriver.support import expected_conditions as EC\n",
    "from bs4 import BeautifulSoup\n",
    "import time, datetime, os\n",
    "from pathlib import Path\n",
    "import string\n",
    "\n",
    "## Create folder with today's date\n",
    "today = datetime.date.today()  \n",
    "todaystr = today.isoformat()   \n",
    "dir_path = os.getcwd()\n",
    "save_dir = dir_path + \"/\" + todaystr\n",
    "if not os.path.exists(save_dir):\n",
    "    os.mkdir(save_dir)\n",
    "\n",
    "\n",
    "## Set the target save location and Firefox preferences to auto download csv files\n",
    "profile = webdriver.FirefoxProfile()\n",
    "profile.set_preference(\"browser.download.folderList\", 2)\n",
    "profile.set_preference(\"browser.download.manager.showWhenStarting\", False)\n",
    "profile.set_preference(\"browser.download.dir\", save_dir)\n",
    "profile.set_preference(\"browser.helperApps.neverAsk.saveToDisk\", \"text/csv\")\n",
    "\n",
    "## Create the Firefox session\n",
    "driver = webdriver.Firefox(firefox_profile=profile)\n",
    "## Get past the disclaimer splash screen\n",
    "driver.get(\"http://casesearch.courts.state.md.us/casesearch/inquiry-index.jsp\")\n",
    "check = driver.find_element_by_name(\"disclaimer\")\n",
    "check.click()\n",
    "continue_button = driver.find_element_by_name(\"action\")\n",
    "continue_button.click()\n",
    "\n",
    "assert \"No results found.\" not in driver.page_source\n",
    "\n"
   ]
  },
  {
   "cell_type": "markdown",
   "metadata": {},
   "source": [
    "#### Remember to insert dates"
   ]
  },
  {
   "cell_type": "code",
   "execution_count": 102,
   "metadata": {},
   "outputs": [
    {
     "ename": "TimeoutException",
     "evalue": "Message: \n",
     "output_type": "error",
     "traceback": [
      "\u001b[0;31m---------------------------------------------------------------------------\u001b[0m",
      "\u001b[0;31mTimeoutException\u001b[0m                          Traceback (most recent call last)",
      "\u001b[0;32m<ipython-input-102-d52893f0d018>\u001b[0m in \u001b[0;36m<module>\u001b[0;34m\u001b[0m\n\u001b[1;32m     18\u001b[0m \u001b[0;34m\u001b[0m\u001b[0m\n\u001b[1;32m     19\u001b[0m     element = WebDriverWait(driver, 10).until(\n\u001b[0;32m---> 20\u001b[0;31m             EC.presence_of_element_located((By.LINK_TEXT, \"CSV\"))).click()\n\u001b[0m\u001b[1;32m     21\u001b[0m     \u001b[0mdriver\u001b[0m\u001b[0;34m.\u001b[0m\u001b[0mback\u001b[0m\u001b[0;34m(\u001b[0m\u001b[0;34m)\u001b[0m\u001b[0;34m\u001b[0m\u001b[0;34m\u001b[0m\u001b[0m\n\u001b[1;32m     22\u001b[0m     \u001b[0mtime\u001b[0m\u001b[0;34m.\u001b[0m\u001b[0msleep\u001b[0m\u001b[0;34m(\u001b[0m\u001b[0;36m15\u001b[0m\u001b[0;34m)\u001b[0m\u001b[0;34m\u001b[0m\u001b[0;34m\u001b[0m\u001b[0m\n",
      "\u001b[0;32m~/anaconda3/envs/tLL/lib/python3.7/site-packages/selenium/webdriver/support/wait.py\u001b[0m in \u001b[0;36muntil\u001b[0;34m(self, method, message)\u001b[0m\n\u001b[1;32m     78\u001b[0m             \u001b[0;32mif\u001b[0m \u001b[0mtime\u001b[0m\u001b[0;34m.\u001b[0m\u001b[0mtime\u001b[0m\u001b[0;34m(\u001b[0m\u001b[0;34m)\u001b[0m \u001b[0;34m>\u001b[0m \u001b[0mend_time\u001b[0m\u001b[0;34m:\u001b[0m\u001b[0;34m\u001b[0m\u001b[0;34m\u001b[0m\u001b[0m\n\u001b[1;32m     79\u001b[0m                 \u001b[0;32mbreak\u001b[0m\u001b[0;34m\u001b[0m\u001b[0;34m\u001b[0m\u001b[0m\n\u001b[0;32m---> 80\u001b[0;31m         \u001b[0;32mraise\u001b[0m \u001b[0mTimeoutException\u001b[0m\u001b[0;34m(\u001b[0m\u001b[0mmessage\u001b[0m\u001b[0;34m,\u001b[0m \u001b[0mscreen\u001b[0m\u001b[0;34m,\u001b[0m \u001b[0mstacktrace\u001b[0m\u001b[0;34m)\u001b[0m\u001b[0;34m\u001b[0m\u001b[0;34m\u001b[0m\u001b[0m\n\u001b[0m\u001b[1;32m     81\u001b[0m \u001b[0;34m\u001b[0m\u001b[0m\n\u001b[1;32m     82\u001b[0m     \u001b[0;32mdef\u001b[0m \u001b[0muntil_not\u001b[0m\u001b[0;34m(\u001b[0m\u001b[0mself\u001b[0m\u001b[0;34m,\u001b[0m \u001b[0mmethod\u001b[0m\u001b[0;34m,\u001b[0m \u001b[0mmessage\u001b[0m\u001b[0;34m=\u001b[0m\u001b[0;34m''\u001b[0m\u001b[0;34m)\u001b[0m\u001b[0;34m:\u001b[0m\u001b[0;34m\u001b[0m\u001b[0;34m\u001b[0m\u001b[0m\n",
      "\u001b[0;31mTimeoutException\u001b[0m: Message: \n"
     ]
    }
   ],
   "source": [
    "## The search page won't let you search for all cases, need to do 26 searches (A-Z)\n",
    "county_list = ['Charles County', \"Saint Mary's County\", 'Calvert County']\n",
    "\n",
    "for county in county_list\n",
    "    for last_initial in string.ascii_lowercase:\n",
    "        try:\n",
    "            ## Enter search criteria\n",
    "            last_name = driver.find_element_by_name(\"lastName\")\n",
    "            last_name.clear()\n",
    "            last_name.send_keys(last_initial)\n",
    "            driver.find_element_by_xpath(\"//select[@name='partyType']/option[text()='Plaintiff']\").click()\n",
    "            driver.find_element_by_xpath(\"//input[@name='site' and @value='CIVIL']\").click()\n",
    "            driver.find_element_by_xpath(\"//input[@name='courtSystem' and @value='D']\").click()\n",
    "            driver.find_element_by_xpath(\"//select[@name='countyName']/option[text()=\" + county + \"]\").click()\n",
    "            last_name = driver.find_element_by_name(\"filingStart\")\n",
    "            last_name.clear()\n",
    "            last_name.send_keys(\"6/1/2019\")  ## Turn to variable\n",
    "            last_name = driver.find_element_by_name(\"filingEnd\")\n",
    "            last_name.clear()\n",
    "            last_name.send_keys(\"9/30/2019\")  ## Turn to variable\n",
    "            driver.find_element_by_xpath(\"//input[@name='action' and @value='Search']\").click()\n",
    "\n",
    "            element = WebDriverWait(driver, 10).until(\n",
    "                    EC.presence_of_element_located((By.LINK_TEXT, \"CSV\"))).click() ## need to add logic for when X isn't found\n",
    "            driver.back()\n",
    "            time.sleep(15)\n",
    "        except:\n",
    "            print('No cases for plantiffs starting with ', last_initial)\n",
    "    "
   ]
  },
  {
   "cell_type": "markdown",
   "metadata": {},
   "source": [
    "# Concatenate csv exports to dataframe"
   ]
  },
  {
   "cell_type": "code",
   "execution_count": 6,
   "metadata": {},
   "outputs": [
    {
     "data": {
      "text/plain": [
       "'/Users/joshuahogge/Projects/tiredLandlords/2019-09-24'"
      ]
     },
     "execution_count": 6,
     "metadata": {},
     "output_type": "execute_result"
    }
   ],
   "source": [
    "os.chdir(save_dir)\n",
    "os.getcwd()"
   ]
  },
  {
   "cell_type": "code",
   "execution_count": 195,
   "metadata": {},
   "outputs": [],
   "source": [
    "import csv\n",
    "import glob\n",
    "\n",
    "# Adding a header to each file\n",
    "path = r'/Users/joshuahogge/Projects/tiredLandlords/2019-09-24' # use your path\n",
    "all_files = glob.glob(path + \"/*.csv\")\n",
    "\n",
    "for filename in all_files:\n",
    "    with open(filename, newline='') as f:\n",
    "        r = csv.reader(f)\n",
    "        data = [line for line in r]\n",
    "    with open(filename,'w',newline='') as f:\n",
    "        w = csv.writer(f)\n",
    "        w.writerow(['Case Number', 'Name', 'Date of Birth', 'Party Type', 'Court', \n",
    "                        'Case Type', 'Case Status', 'Filing Date', 'Case Caption'])\n",
    "        w.writerows(data)"
   ]
  },
  {
   "cell_type": "code",
   "execution_count": 196,
   "metadata": {},
   "outputs": [
    {
     "data": {
      "text/plain": [
       "(2151, 8)"
      ]
     },
     "execution_count": 196,
     "metadata": {},
     "output_type": "execute_result"
    }
   ],
   "source": [
    "import pandas as pd\n",
    "# Concatenate csv to single dataframe\n",
    "df = pd.concat([pd.read_csv(f, index_col=0) for f in all_files])\n",
    "df.shape"
   ]
  },
  {
   "cell_type": "markdown",
   "metadata": {},
   "source": [
    "# Filtering down to the good stuff"
   ]
  },
  {
   "cell_type": "code",
   "execution_count": 197,
   "metadata": {},
   "outputs": [
    {
     "data": {
      "text/plain": [
       "(2151, 8)"
      ]
     },
     "execution_count": 197,
     "metadata": {},
     "output_type": "execute_result"
    }
   ],
   "source": [
    "df.shape"
   ]
  },
  {
   "cell_type": "code",
   "execution_count": 271,
   "metadata": {
    "scrolled": false
   },
   "outputs": [
    {
     "name": "stderr",
     "output_type": "stream",
     "text": [
      "/Users/joshuahogge/anaconda3/envs/tLL/lib/python3.7/site-packages/ipykernel_launcher.py:2: SettingWithCopyWarning: \n",
      "A value is trying to be set on a copy of a slice from a DataFrame\n",
      "\n",
      "See the caveats in the documentation: http://pandas.pydata.org/pandas-docs/stable/user_guide/indexing.html#returning-a-view-versus-a-copy\n",
      "  \n"
     ]
    },
    {
     "data": {
      "text/html": [
       "<div>\n",
       "<style scoped>\n",
       "    .dataframe tbody tr th:only-of-type {\n",
       "        vertical-align: middle;\n",
       "    }\n",
       "\n",
       "    .dataframe tbody tr th {\n",
       "        vertical-align: top;\n",
       "    }\n",
       "\n",
       "    .dataframe thead th {\n",
       "        text-align: right;\n",
       "    }\n",
       "</style>\n",
       "<table border=\"1\" class=\"dataframe\">\n",
       "  <thead>\n",
       "    <tr style=\"text-align: right;\">\n",
       "      <th></th>\n",
       "      <th>Name</th>\n",
       "      <th>Date of Birth</th>\n",
       "      <th>Party Type</th>\n",
       "      <th>Court</th>\n",
       "      <th>Case Type</th>\n",
       "      <th>Case Status</th>\n",
       "      <th>Filing Date</th>\n",
       "      <th>Case Caption</th>\n",
       "    </tr>\n",
       "    <tr>\n",
       "      <th>Case Number</th>\n",
       "      <th></th>\n",
       "      <th></th>\n",
       "      <th></th>\n",
       "      <th></th>\n",
       "      <th></th>\n",
       "      <th></th>\n",
       "      <th></th>\n",
       "      <th></th>\n",
       "    </tr>\n",
       "  </thead>\n",
       "  <tbody>\n",
       "    <tr>\n",
       "      <td>D042LT18007202</td>\n",
       "      <td>Mason, Christy</td>\n",
       "      <td>NaN</td>\n",
       "      <td>Plaintiff</td>\n",
       "      <td>Charles County District Court</td>\n",
       "      <td>FTPR</td>\n",
       "      <td>Open</td>\n",
       "      <td>08/26/2019</td>\n",
       "      <td>CHRISTY MASON vs. STEVE MCFARLANE, et al.</td>\n",
       "    </tr>\n",
       "    <tr>\n",
       "      <td>D042LT19002704</td>\n",
       "      <td>Md Property Management, Llc</td>\n",
       "      <td>NaN</td>\n",
       "      <td>Plaintiff</td>\n",
       "      <td>Charles County District Court</td>\n",
       "      <td>FTPR</td>\n",
       "      <td>Open</td>\n",
       "      <td>08/06/2019</td>\n",
       "      <td>MD PROPERTY MANAGEMENT, LLC vs. BREANNA PARKER...</td>\n",
       "    </tr>\n",
       "    <tr>\n",
       "      <td>D042LT19002670</td>\n",
       "      <td>Bailey, Vincent</td>\n",
       "      <td>NaN</td>\n",
       "      <td>Plaintiff</td>\n",
       "      <td>Charles County District Court</td>\n",
       "      <td>FTPR</td>\n",
       "      <td>Open</td>\n",
       "      <td>08/05/2019</td>\n",
       "      <td>VINCENT BAILEY vs. BROOKE GRAY, et al.</td>\n",
       "    </tr>\n",
       "    <tr>\n",
       "      <td>D042LT19002042</td>\n",
       "      <td>Banks, Curtis</td>\n",
       "      <td>NaN</td>\n",
       "      <td>Plaintiff</td>\n",
       "      <td>Charles County District Court</td>\n",
       "      <td>FTPR</td>\n",
       "      <td>Closed</td>\n",
       "      <td>08/02/2019</td>\n",
       "      <td>CURTIS BANKS vs. KENDALL BROOKS</td>\n",
       "    </tr>\n",
       "    <tr>\n",
       "      <td>D042LT19002626</td>\n",
       "      <td>Beckham, Zachriell</td>\n",
       "      <td>NaN</td>\n",
       "      <td>Plaintiff</td>\n",
       "      <td>Charles County District Court</td>\n",
       "      <td>FTPR</td>\n",
       "      <td>Closed</td>\n",
       "      <td>08/08/2019</td>\n",
       "      <td>ZACHRIELL BECKHAM vs. STEPHANIE VAUGHN, et al.</td>\n",
       "    </tr>\n",
       "    <tr>\n",
       "      <td>D042LT19002674</td>\n",
       "      <td>Beeren &amp; Barry Investments</td>\n",
       "      <td>NaN</td>\n",
       "      <td>Plaintiff</td>\n",
       "      <td>Charles County District Court</td>\n",
       "      <td>FTPR</td>\n",
       "      <td>Closed</td>\n",
       "      <td>08/05/2019</td>\n",
       "      <td>BEEREN &amp; BARRY INVESTMENTS vs. LADONNA WILLIAM...</td>\n",
       "    </tr>\n",
       "    <tr>\n",
       "      <td>D042LT19002940</td>\n",
       "      <td>Bohrer, Mark</td>\n",
       "      <td>NaN</td>\n",
       "      <td>Plaintiff</td>\n",
       "      <td>Charles County District Court</td>\n",
       "      <td>FTPR</td>\n",
       "      <td>Closed</td>\n",
       "      <td>08/08/2019</td>\n",
       "      <td>MARK BOHRER vs. AMY BROWN</td>\n",
       "    </tr>\n",
       "    <tr>\n",
       "      <td>D042LT19002042</td>\n",
       "      <td>Newman, Lydia</td>\n",
       "      <td>NaN</td>\n",
       "      <td>Plaintiff</td>\n",
       "      <td>Charles County District Court</td>\n",
       "      <td>FTPR</td>\n",
       "      <td>Closed</td>\n",
       "      <td>08/02/2019</td>\n",
       "      <td>CURTIS BANKS vs. KENDALL BROOKS</td>\n",
       "    </tr>\n",
       "    <tr>\n",
       "      <td>D042LT19004160</td>\n",
       "      <td>Scott, Mary Coleman</td>\n",
       "      <td>NaN</td>\n",
       "      <td>Plaintiff</td>\n",
       "      <td>Charles County District Court</td>\n",
       "      <td>FTPR</td>\n",
       "      <td>Closed</td>\n",
       "      <td>08/28/2019</td>\n",
       "      <td>MARY SCOTT vs. ASHLEY KNIGHT, et al.</td>\n",
       "    </tr>\n",
       "    <tr>\n",
       "      <td>D042LT19001594</td>\n",
       "      <td>Sheffield Greens A Partments, Llc</td>\n",
       "      <td>NaN</td>\n",
       "      <td>Plaintiff</td>\n",
       "      <td>Charles County District Court</td>\n",
       "      <td>FTPR</td>\n",
       "      <td>Closed</td>\n",
       "      <td>07/30/2019</td>\n",
       "      <td>SHEFFIELD GREENS A PARTMENTS, LLC vs. JELANI H...</td>\n",
       "    </tr>\n",
       "  </tbody>\n",
       "</table>\n",
       "</div>"
      ],
      "text/plain": [
       "                                             Name Date of Birth Party Type  \\\n",
       "Case Number                                                                  \n",
       "D042LT18007202                     Mason, Christy           NaN  Plaintiff   \n",
       "D042LT19002704        Md Property Management, Llc           NaN  Plaintiff   \n",
       "D042LT19002670                    Bailey, Vincent           NaN  Plaintiff   \n",
       "D042LT19002042                      Banks, Curtis           NaN  Plaintiff   \n",
       "D042LT19002626                 Beckham, Zachriell           NaN  Plaintiff   \n",
       "D042LT19002674         Beeren & Barry Investments           NaN  Plaintiff   \n",
       "D042LT19002940                       Bohrer, Mark           NaN  Plaintiff   \n",
       "D042LT19002042                      Newman, Lydia           NaN  Plaintiff   \n",
       "D042LT19004160                Scott, Mary Coleman           NaN  Plaintiff   \n",
       "D042LT19001594  Sheffield Greens A Partments, Llc           NaN  Plaintiff   \n",
       "\n",
       "                                        Court Case Type Case Status  \\\n",
       "Case Number                                                           \n",
       "D042LT18007202  Charles County District Court      FTPR        Open   \n",
       "D042LT19002704  Charles County District Court      FTPR        Open   \n",
       "D042LT19002670  Charles County District Court      FTPR        Open   \n",
       "D042LT19002042  Charles County District Court      FTPR      Closed   \n",
       "D042LT19002626  Charles County District Court      FTPR      Closed   \n",
       "D042LT19002674  Charles County District Court      FTPR      Closed   \n",
       "D042LT19002940  Charles County District Court      FTPR      Closed   \n",
       "D042LT19002042  Charles County District Court      FTPR      Closed   \n",
       "D042LT19004160  Charles County District Court      FTPR      Closed   \n",
       "D042LT19001594  Charles County District Court      FTPR      Closed   \n",
       "\n",
       "               Filing Date                                       Case Caption  \n",
       "Case Number                                                                    \n",
       "D042LT18007202  08/26/2019          CHRISTY MASON vs. STEVE MCFARLANE, et al.  \n",
       "D042LT19002704  08/06/2019  MD PROPERTY MANAGEMENT, LLC vs. BREANNA PARKER...  \n",
       "D042LT19002670  08/05/2019             VINCENT BAILEY vs. BROOKE GRAY, et al.  \n",
       "D042LT19002042  08/02/2019                    CURTIS BANKS vs. KENDALL BROOKS  \n",
       "D042LT19002626  08/08/2019     ZACHRIELL BECKHAM vs. STEPHANIE VAUGHN, et al.  \n",
       "D042LT19002674  08/05/2019  BEEREN & BARRY INVESTMENTS vs. LADONNA WILLIAM...  \n",
       "D042LT19002940  08/08/2019                          MARK BOHRER vs. AMY BROWN  \n",
       "D042LT19002042  08/02/2019                    CURTIS BANKS vs. KENDALL BROOKS  \n",
       "D042LT19004160  08/28/2019               MARY SCOTT vs. ASHLEY KNIGHT, et al.  \n",
       "D042LT19001594  07/30/2019  SHEFFIELD GREENS A PARTMENTS, LLC vs. JELANI H...  "
      ]
     },
     "execution_count": 271,
     "metadata": {},
     "output_type": "execute_result"
    }
   ],
   "source": [
    "da = df[df['Case Type'] == 'FTPR'] # Failure to Pay Rent\n",
    "da.drop_duplicates(subset=\"Name\", inplace=True)\n",
    "da.head(10)"
   ]
  },
  {
   "cell_type": "code",
   "execution_count": 272,
   "metadata": {},
   "outputs": [
    {
     "data": {
      "text/plain": [
       "(52, 8)"
      ]
     },
     "execution_count": 272,
     "metadata": {},
     "output_type": "execute_result"
    }
   ],
   "source": [
    "da.shape"
   ]
  },
  {
   "cell_type": "markdown",
   "metadata": {},
   "source": [
    "# Getting case data"
   ]
  },
  {
   "cell_type": "code",
   "execution_count": 285,
   "metadata": {},
   "outputs": [],
   "source": [
    "case_data_df = pd.DataFrame()\n",
    "ll_df = pd.DataFrame()\n",
    "\n",
    "for index, row in da[:12].iterrows():\n",
    "    # Enter case data on query page\n",
    "    court = row['Court'].split(' ')[0]\n",
    "    driver.find_element_by_xpath(\"//select[@name='locationCode']/option[contains(text(), '%s')]\" % court).click()\n",
    "    case_number = driver.find_element_by_name(\"caseId\")\n",
    "    case_number.clear()\n",
    "    case_number.send_keys(index) \n",
    "    try:\n",
    "        driver.find_element_by_xpath(\"//input[@name='action' and @value='Get Case']\").click()\n",
    "    except:\n",
    "        print('Case number %s not found' % str(da['Case Number'])) \n",
    "        \n",
    "    # Selenium is bad at finding data in relation to headers, so this is Beautiful Soup finding all of\n",
    "    # the landlord names, which will help pick out the landlor info after the table data is scraped in the next step.\n",
    "    soup = BeautifulSoup(driver.page_source, 'html.parser')\n",
    "    landlords = []\n",
    "    for h5 in soup.find_all('h5'):\n",
    "        if h5.text == 'Landlord / Plaintiff':\n",
    "            landlords.append(h5.find_next('span', 'Value').contents)\n",
    "#     print(landlords)\n",
    "    \n",
    "    # Mine data\n",
    "    case_data = []\n",
    "    for tr in driver.find_elements_by_xpath('//table//tr'):\n",
    "        tds = tr.find_elements_by_tag_name('td')\n",
    "        case_data.append([td.text for td in tds])\n",
    "\n",
    "    case_clean = []\n",
    "    # Cleaning out website header info\n",
    "    [case_clean.append(a) for a in case_data if len(a) == 2]\n",
    "    num_names = 0\n",
    "    repeated_info = ['Name:', 'Address:', 'City:']\n",
    "    \n",
    "    # Giving each item a unique suffix so writing to dictionary doesn't overwrite repeated info\n",
    "    for i in case_clean:\n",
    "        if i[0] in repeated_info:\n",
    "            i[0] = i[0] + str(num_names)\n",
    "        num_names += 1\n",
    "\n",
    "    # Casting do dict for import into pandas\n",
    "    case_dict = {}\n",
    "    case_dict = {d[0]: d[1:] for d in case_clean}\n",
    "#     print(case_dict)\n",
    "\n",
    "    # Grabbing landlord contact data     \n",
    "    ll_contacts = {}\n",
    "    num_ll = 0\n",
    "    name_index = 0\n",
    "    list_keys = list(case_dict.keys())\n",
    "    for enum, key in enumerate(list_keys):\n",
    "        if case_dict[key] in landlords:\n",
    "            ll_contacts[\"LL\"+str(num_ll)] = [case_dict[list_keys[enum]], case_dict[list_keys[enum+1]],case_dict[list_keys[enum+2]]]\n",
    "            num_ll +=1    \n",
    "#     print(ll_contacts)\n",
    "    \n",
    "    # Writing contacts to big landlord list\n",
    "    dl  = pd.DataFrame.from_dict(ll_contacts, orient='index', columns=['name', 'address', 'city'])\n",
    "    ll_df = pd.concat([ll_df, dl], axis=0, ignore_index=True, sort=False)\n",
    "    \n",
    "    \n",
    "    driver.back()\n",
    "    time.sleep(1)"
   ]
  },
  {
   "cell_type": "markdown",
   "metadata": {},
   "source": [
    "## Classify each row as a person (or business)"
   ]
  },
  {
   "cell_type": "code",
   "execution_count": 362,
   "metadata": {},
   "outputs": [
    {
     "data": {
      "text/html": [
       "<div>\n",
       "<style scoped>\n",
       "    .dataframe tbody tr th:only-of-type {\n",
       "        vertical-align: middle;\n",
       "    }\n",
       "\n",
       "    .dataframe tbody tr th {\n",
       "        vertical-align: top;\n",
       "    }\n",
       "\n",
       "    .dataframe thead th {\n",
       "        text-align: right;\n",
       "    }\n",
       "</style>\n",
       "<table border=\"1\" class=\"dataframe\">\n",
       "  <thead>\n",
       "    <tr style=\"text-align: right;\">\n",
       "      <th></th>\n",
       "      <th>name</th>\n",
       "      <th>address</th>\n",
       "      <th>city</th>\n",
       "    </tr>\n",
       "  </thead>\n",
       "  <tbody>\n",
       "    <tr>\n",
       "      <td>0</td>\n",
       "      <td>MASON, CHRISTY</td>\n",
       "      <td>13535 WAVERLY RD</td>\n",
       "      <td>NEWBURGState:MDZip Code:20664</td>\n",
       "    </tr>\n",
       "    <tr>\n",
       "      <td>1</td>\n",
       "      <td>MD PROPERTY MANAGEMENT, LLC</td>\n",
       "      <td>14340 OLD MARLBORO PIKE</td>\n",
       "      <td>UPPER MARLBOROState:MDZip Code:20772</td>\n",
       "    </tr>\n",
       "    <tr>\n",
       "      <td>2</td>\n",
       "      <td>BAILEY, VINCENT</td>\n",
       "      <td>1628 PIN OAK DR</td>\n",
       "      <td>WALDORFState:MDZip Code:20602</td>\n",
       "    </tr>\n",
       "    <tr>\n",
       "      <td>3</td>\n",
       "      <td>BANKS, CURTIS</td>\n",
       "      <td>513 CORAL KEY PL</td>\n",
       "      <td>NEWPORT NEWSState:VAZip Code:23606</td>\n",
       "    </tr>\n",
       "    <tr>\n",
       "      <td>4</td>\n",
       "      <td>NEWMAN, LYDIA</td>\n",
       "      <td>10748 HOLLAWAY DR</td>\n",
       "      <td>UPPER MARLBOROState:MDZip Code:20772</td>\n",
       "    </tr>\n",
       "  </tbody>\n",
       "</table>\n",
       "</div>"
      ],
      "text/plain": [
       "                          name                  address  \\\n",
       "0               MASON, CHRISTY         13535 WAVERLY RD   \n",
       "1  MD PROPERTY MANAGEMENT, LLC  14340 OLD MARLBORO PIKE   \n",
       "2              BAILEY, VINCENT          1628 PIN OAK DR   \n",
       "3                BANKS, CURTIS         513 CORAL KEY PL   \n",
       "4                NEWMAN, LYDIA        10748 HOLLAWAY DR   \n",
       "\n",
       "                                   city  \n",
       "0         NEWBURGState:MDZip Code:20664  \n",
       "1  UPPER MARLBOROState:MDZip Code:20772  \n",
       "2         WALDORFState:MDZip Code:20602  \n",
       "3    NEWPORT NEWSState:VAZip Code:23606  \n",
       "4  UPPER MARLBOROState:MDZip Code:20772  "
      ]
     },
     "execution_count": 362,
     "metadata": {},
     "output_type": "execute_result"
    }
   ],
   "source": [
    "ll_df.head()\n",
    "# print(type(ll_df['name'][0][0]))\n",
    "ll_str = ll_df\n",
    "\n",
    "ll_str['name'] = ll_str.name.apply(', '.join)\n",
    "ll_str['address'] = ll_str.address.apply(', '.join)\n",
    "ll_str['city'] = ll_str.city.apply(', '.join)\n",
    "ll_str.head()"
   ]
  },
  {
   "cell_type": "code",
   "execution_count": 363,
   "metadata": {},
   "outputs": [],
   "source": [
    "ll_df.to_csv(os.path.join(save_dir,'for_Classification.csv'))\n"
   ]
  },
  {
   "cell_type": "code",
   "execution_count": 364,
   "metadata": {},
   "outputs": [],
   "source": [
    "dr = pd.read_csv(os.path.join(save_dir, 'for_Classification.csv'), header=0, index_col=0)"
   ]
  },
  {
   "cell_type": "code",
   "execution_count": 365,
   "metadata": {},
   "outputs": [
    {
     "data": {
      "text/html": [
       "<div>\n",
       "<style scoped>\n",
       "    .dataframe tbody tr th:only-of-type {\n",
       "        vertical-align: middle;\n",
       "    }\n",
       "\n",
       "    .dataframe tbody tr th {\n",
       "        vertical-align: top;\n",
       "    }\n",
       "\n",
       "    .dataframe thead th {\n",
       "        text-align: right;\n",
       "    }\n",
       "</style>\n",
       "<table border=\"1\" class=\"dataframe\">\n",
       "  <thead>\n",
       "    <tr style=\"text-align: right;\">\n",
       "      <th></th>\n",
       "      <th>name</th>\n",
       "      <th>isPerson</th>\n",
       "      <th>address</th>\n",
       "      <th>city</th>\n",
       "    </tr>\n",
       "  </thead>\n",
       "  <tbody>\n",
       "    <tr>\n",
       "      <td>0</td>\n",
       "      <td>MASON, CHRISTY</td>\n",
       "      <td>1</td>\n",
       "      <td>13535 WAVERLY RD</td>\n",
       "      <td>NEWBURGState:MDZip Code:20664</td>\n",
       "    </tr>\n",
       "    <tr>\n",
       "      <td>1</td>\n",
       "      <td>MD PROPERTY MANAGEMENT, LLC</td>\n",
       "      <td>0</td>\n",
       "      <td>14340 OLD MARLBORO PIKE</td>\n",
       "      <td>UPPER MARLBOROState:MDZip Code:20772</td>\n",
       "    </tr>\n",
       "    <tr>\n",
       "      <td>2</td>\n",
       "      <td>BAILEY, VINCENT</td>\n",
       "      <td>1</td>\n",
       "      <td>1628 PIN OAK DR</td>\n",
       "      <td>WALDORFState:MDZip Code:20602</td>\n",
       "    </tr>\n",
       "    <tr>\n",
       "      <td>3</td>\n",
       "      <td>BANKS, CURTIS</td>\n",
       "      <td>1</td>\n",
       "      <td>513 CORAL KEY PL</td>\n",
       "      <td>NEWPORT NEWSState:VAZip Code:23606</td>\n",
       "    </tr>\n",
       "    <tr>\n",
       "      <td>4</td>\n",
       "      <td>NEWMAN, LYDIA</td>\n",
       "      <td>1</td>\n",
       "      <td>10748 HOLLAWAY DR</td>\n",
       "      <td>UPPER MARLBOROState:MDZip Code:20772</td>\n",
       "    </tr>\n",
       "  </tbody>\n",
       "</table>\n",
       "</div>"
      ],
      "text/plain": [
       "                          name  isPerson                  address  \\\n",
       "0               MASON, CHRISTY         1         13535 WAVERLY RD   \n",
       "1  MD PROPERTY MANAGEMENT, LLC         0  14340 OLD MARLBORO PIKE   \n",
       "2              BAILEY, VINCENT         1          1628 PIN OAK DR   \n",
       "3                BANKS, CURTIS         1         513 CORAL KEY PL   \n",
       "4                NEWMAN, LYDIA         1        10748 HOLLAWAY DR   \n",
       "\n",
       "                                   city  \n",
       "0         NEWBURGState:MDZip Code:20664  \n",
       "1  UPPER MARLBOROState:MDZip Code:20772  \n",
       "2         WALDORFState:MDZip Code:20602  \n",
       "3    NEWPORT NEWSState:VAZip Code:23606  \n",
       "4  UPPER MARLBOROState:MDZip Code:20772  "
      ]
     },
     "execution_count": 365,
     "metadata": {},
     "output_type": "execute_result"
    }
   ],
   "source": [
    "dr.head()"
   ]
  },
  {
   "cell_type": "code",
   "execution_count": 366,
   "metadata": {},
   "outputs": [
    {
     "data": {
      "text/plain": [
       "{0: {'name': 'MASON, CHRISTY',\n",
       "  'isPerson': 1,\n",
       "  'address': '13535 WAVERLY RD',\n",
       "  'city': 'NEWBURGState:MDZip Code:20664'},\n",
       " 1: {'name': 'MD PROPERTY MANAGEMENT, LLC',\n",
       "  'isPerson': 0,\n",
       "  'address': '14340 OLD MARLBORO PIKE',\n",
       "  'city': 'UPPER MARLBOROState:MDZip Code:20772'},\n",
       " 2: {'name': 'BAILEY, VINCENT',\n",
       "  'isPerson': 1,\n",
       "  'address': '1628 PIN OAK DR',\n",
       "  'city': 'WALDORFState:MDZip Code:20602'},\n",
       " 3: {'name': 'BANKS, CURTIS',\n",
       "  'isPerson': 1,\n",
       "  'address': '513 CORAL KEY PL',\n",
       "  'city': 'NEWPORT NEWSState:VAZip Code:23606'},\n",
       " 4: {'name': 'NEWMAN, LYDIA',\n",
       "  'isPerson': 1,\n",
       "  'address': '10748 HOLLAWAY DR',\n",
       "  'city': 'UPPER MARLBOROState:MDZip Code:20772'},\n",
       " 5: {'name': 'BECKHAM, ZACHRIELL',\n",
       "  'isPerson': 1,\n",
       "  'address': '10727 ESPRET PL',\n",
       "  'city': 'WHITE PLAINSState:MDZip Code:20695'},\n",
       " 6: {'name': 'BEEREN & BARRY INVESTMENTS',\n",
       "  'isPerson': 0,\n",
       "  'address': '9900-E GREENBLET RD STE 199',\n",
       "  'city': 'LANHAMState:MDZip Code:20706'},\n",
       " 7: {'name': 'BOHRER, MARK',\n",
       "  'isPerson': 1,\n",
       "  'address': '146 MORGANS RIDGE RD',\n",
       "  'city': 'LA PLATAState:MDZip Code:20646'},\n",
       " 8: {'name': 'BANKS, CURTIS',\n",
       "  'isPerson': 1,\n",
       "  'address': '513 CORAL KEY PL',\n",
       "  'city': 'NEWPORT NEWSState:VAZip Code:23606'},\n",
       " 9: {'name': 'NEWMAN, LYDIA',\n",
       "  'isPerson': 1,\n",
       "  'address': '10748 HOLLAWAY DR',\n",
       "  'city': 'UPPER MARLBOROState:MDZip Code:20772'},\n",
       " 10: {'name': 'SCOTT, MARY COLEMAN',\n",
       "  'isPerson': 1,\n",
       "  'address': '11675 ROYAL LYTHAM LANE',\n",
       "  'city': 'WALDORFState:MDZip Code:20602'},\n",
       " 11: {'name': 'SHEFFIELD GREENS A PARTMENTS, LLC',\n",
       "  'isPerson': 0,\n",
       "  'address': '10400 ODONNELL PL STE 100',\n",
       "  'city': 'WALDORFState:MDZip Code:20603'},\n",
       " 12: {'name': 'SHEFFIELD GREENS APARTMENTS LLC',\n",
       "  'isPerson': 0,\n",
       "  'address': '10400 ODONNELL PL STE 100',\n",
       "  'city': 'WALDORFState:MDZip Code:20603'},\n",
       " 13: {'name': 'SHEFFIELD GREENS APARTMENTS, LLC',\n",
       "  'isPerson': 0,\n",
       "  'address': '10400 ODONNELL PL STE 100',\n",
       "  'city': 'WALDORFState:MDZip Code:20603'}}"
      ]
     },
     "execution_count": 366,
     "metadata": {},
     "output_type": "execute_result"
    }
   ],
   "source": [
    "dr.to_dict('index')"
   ]
  },
  {
   "cell_type": "markdown",
   "metadata": {},
   "source": [
    "## Writing to order of click2mail template"
   ]
  },
  {
   "cell_type": "code",
   "execution_count": 369,
   "metadata": {},
   "outputs": [
    {
     "name": "stdout",
     "output_type": "stream",
     "text": [
      "['CHRISTY', 'MASON', '13535 WAVERLY RD', 'NEWBURG', 'MD', '20664']\n"
     ]
    }
   ],
   "source": [
    "\n",
    "output = []\n",
    "# if is Person, parse First and Last name, else populate Organization\n",
    "if dr['isPerson'][0] == 1:\n",
    "    # First Name\n",
    "    output.append(dr['name'][0].split(\",\")[1][1:])\n",
    "    # Last Name\n",
    "    output.append(dr['name'][0].split(\",\")[0])\n",
    "else:\n",
    "    output.append(dr['name'][0])\n",
    "\n",
    "# Address 1\n",
    "output.append(dr['address'][0])\n",
    "# Address 2\n",
    "# Address 3\n",
    "# City\n",
    "city = dr['city'][0].split('State:')[0]\n",
    "output.append(city)\n",
    "# State\n",
    "state = dr['city'][0].split('State:')[1].split('Zip Code:')[0]\n",
    "output.append(state)\n",
    "# Zip\n",
    "mail_zip = dr['city'][0].split('Zip Code:')[1]\n",
    "output.append(mail_zip)\n",
    "# Country_non-US\n",
    "# N/A\n",
    "print(output)\n"
   ]
  },
  {
   "cell_type": "code",
   "execution_count": null,
   "metadata": {},
   "outputs": [],
   "source": []
  }
 ],
 "metadata": {
  "kernelspec": {
   "display_name": "Python 3",
   "language": "python",
   "name": "python3"
  },
  "language_info": {
   "codemirror_mode": {
    "name": "ipython",
    "version": 3
   },
   "file_extension": ".py",
   "mimetype": "text/x-python",
   "name": "python",
   "nbconvert_exporter": "python",
   "pygments_lexer": "ipython3",
   "version": "3.7.4"
  }
 },
 "nbformat": 4,
 "nbformat_minor": 2
}
