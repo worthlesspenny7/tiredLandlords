{
 "cells": [
  {
   "cell_type": "markdown",
   "metadata": {},
   "source": [
    "# Scraping data from MD Case Search"
   ]
  },
  {
   "cell_type": "code",
   "execution_count": 59,
   "metadata": {},
   "outputs": [],
   "source": [
    "from selenium import webdriver\n",
    "from selenium.webdriver.common.keys import Keys\n",
    "from selenium.webdriver.common.by import By\n",
    "from selenium.webdriver.support.ui import WebDriverWait\n",
    "from selenium.webdriver.support import expected_conditions as EC\n",
    "from bs4 import BeautifulSoup\n",
    "import time, datetime, os\n",
    "from pathlib import Path\n",
    "import string\n",
    "\n",
    "## Create folder with today's date\n",
    "today = datetime.date.today()  \n",
    "todaystr = today.isoformat()   \n",
    "dir_path = os.getcwd()\n",
    "save_dir = dir_path + \"/\" + todaystr\n",
    "if not os.path.exists(save_dir):\n",
    "    os.mkdir(save_dir)\n",
    "\n",
    "\n",
    "## Set the target save location and Firefox preferences to auto download csv files\n",
    "profile = webdriver.FirefoxProfile()\n",
    "profile.set_preference(\"browser.download.folderList\", 2)\n",
    "profile.set_preference(\"browser.download.manager.showWhenStarting\", False)\n",
    "profile.set_preference(\"browser.download.dir\", save_dir)\n",
    "profile.set_preference(\"browser.helperApps.neverAsk.saveToDisk\", \"text/csv\")\n",
    "\n",
    "## Create the Firefox session\n",
    "driver = webdriver.Firefox(firefox_profile=profile)\n",
    "## Get past the disclaimer splash screen\n",
    "driver.get(\"http://casesearch.courts.state.md.us/casesearch/inquiry-index.jsp\")\n",
    "check = driver.find_element_by_name(\"disclaimer\")\n",
    "check.click()\n",
    "continue_button = driver.find_element_by_name(\"action\")\n",
    "continue_button.click()\n",
    "\n",
    "assert \"No results found.\" not in driver.page_source\n",
    "\n"
   ]
  },
  {
   "cell_type": "markdown",
   "metadata": {},
   "source": [
    "#### Remember to insert dates"
   ]
  },
  {
   "cell_type": "code",
   "execution_count": 102,
   "metadata": {},
   "outputs": [
    {
     "ename": "TimeoutException",
     "evalue": "Message: \n",
     "output_type": "error",
     "traceback": [
      "\u001b[0;31m---------------------------------------------------------------------------\u001b[0m",
      "\u001b[0;31mTimeoutException\u001b[0m                          Traceback (most recent call last)",
      "\u001b[0;32m<ipython-input-102-d52893f0d018>\u001b[0m in \u001b[0;36m<module>\u001b[0;34m\u001b[0m\n\u001b[1;32m     18\u001b[0m \u001b[0;34m\u001b[0m\u001b[0m\n\u001b[1;32m     19\u001b[0m     element = WebDriverWait(driver, 10).until(\n\u001b[0;32m---> 20\u001b[0;31m             EC.presence_of_element_located((By.LINK_TEXT, \"CSV\"))).click()\n\u001b[0m\u001b[1;32m     21\u001b[0m     \u001b[0mdriver\u001b[0m\u001b[0;34m.\u001b[0m\u001b[0mback\u001b[0m\u001b[0;34m(\u001b[0m\u001b[0;34m)\u001b[0m\u001b[0;34m\u001b[0m\u001b[0;34m\u001b[0m\u001b[0m\n\u001b[1;32m     22\u001b[0m     \u001b[0mtime\u001b[0m\u001b[0;34m.\u001b[0m\u001b[0msleep\u001b[0m\u001b[0;34m(\u001b[0m\u001b[0;36m15\u001b[0m\u001b[0;34m)\u001b[0m\u001b[0;34m\u001b[0m\u001b[0;34m\u001b[0m\u001b[0m\n",
      "\u001b[0;32m~/anaconda3/envs/tLL/lib/python3.7/site-packages/selenium/webdriver/support/wait.py\u001b[0m in \u001b[0;36muntil\u001b[0;34m(self, method, message)\u001b[0m\n\u001b[1;32m     78\u001b[0m             \u001b[0;32mif\u001b[0m \u001b[0mtime\u001b[0m\u001b[0;34m.\u001b[0m\u001b[0mtime\u001b[0m\u001b[0;34m(\u001b[0m\u001b[0;34m)\u001b[0m \u001b[0;34m>\u001b[0m \u001b[0mend_time\u001b[0m\u001b[0;34m:\u001b[0m\u001b[0;34m\u001b[0m\u001b[0;34m\u001b[0m\u001b[0m\n\u001b[1;32m     79\u001b[0m                 \u001b[0;32mbreak\u001b[0m\u001b[0;34m\u001b[0m\u001b[0;34m\u001b[0m\u001b[0m\n\u001b[0;32m---> 80\u001b[0;31m         \u001b[0;32mraise\u001b[0m \u001b[0mTimeoutException\u001b[0m\u001b[0;34m(\u001b[0m\u001b[0mmessage\u001b[0m\u001b[0;34m,\u001b[0m \u001b[0mscreen\u001b[0m\u001b[0;34m,\u001b[0m \u001b[0mstacktrace\u001b[0m\u001b[0;34m)\u001b[0m\u001b[0;34m\u001b[0m\u001b[0;34m\u001b[0m\u001b[0m\n\u001b[0m\u001b[1;32m     81\u001b[0m \u001b[0;34m\u001b[0m\u001b[0m\n\u001b[1;32m     82\u001b[0m     \u001b[0;32mdef\u001b[0m \u001b[0muntil_not\u001b[0m\u001b[0;34m(\u001b[0m\u001b[0mself\u001b[0m\u001b[0;34m,\u001b[0m \u001b[0mmethod\u001b[0m\u001b[0;34m,\u001b[0m \u001b[0mmessage\u001b[0m\u001b[0;34m=\u001b[0m\u001b[0;34m''\u001b[0m\u001b[0;34m)\u001b[0m\u001b[0;34m:\u001b[0m\u001b[0;34m\u001b[0m\u001b[0;34m\u001b[0m\u001b[0m\n",
      "\u001b[0;31mTimeoutException\u001b[0m: Message: \n"
     ]
    }
   ],
   "source": [
    "## The search page won't let you search for all cases, need to do 26 searches (A-Z)\n",
    "county_list = ['Charles County', \"Saint Mary's County\", 'Calvert County']\n",
    "\n",
    "for county in county_list\n",
    "    for last_initial in string.ascii_lowercase:\n",
    "        try:\n",
    "            ## Enter search criteria\n",
    "            last_name = driver.find_element_by_name(\"lastName\")\n",
    "            last_name.clear()\n",
    "            last_name.send_keys(last_initial)\n",
    "            driver.find_element_by_xpath(\"//select[@name='partyType']/option[text()='Plaintiff']\").click()\n",
    "            driver.find_element_by_xpath(\"//input[@name='site' and @value='CIVIL']\").click()\n",
    "            driver.find_element_by_xpath(\"//input[@name='courtSystem' and @value='D']\").click()\n",
    "            driver.find_element_by_xpath(\"//select[@name='countyName']/option[text()=\" + county + \"]\").click()\n",
    "            last_name = driver.find_element_by_name(\"filingStart\")\n",
    "            last_name.clear()\n",
    "            last_name.send_keys(\"6/1/2019\")  ## Turn to variable\n",
    "            last_name = driver.find_element_by_name(\"filingEnd\")\n",
    "            last_name.clear()\n",
    "            last_name.send_keys(\"9/30/2019\")  ## Turn to variable\n",
    "            driver.find_element_by_xpath(\"//input[@name='action' and @value='Search']\").click()\n",
    "\n",
    "            element = WebDriverWait(driver, 10).until(\n",
    "                    EC.presence_of_element_located((By.LINK_TEXT, \"CSV\"))).click() ## need to add logic for when X isn't found\n",
    "            driver.back()\n",
    "            time.sleep(15)\n",
    "        except:\n",
    "            print('No cases for plantiffs starting with ', last_initial)\n",
    "    "
   ]
  },
  {
   "cell_type": "markdown",
   "metadata": {},
   "source": [
    "# Concatenate csv exports to dataframe"
   ]
  },
  {
   "cell_type": "code",
   "execution_count": 6,
   "metadata": {},
   "outputs": [
    {
     "data": {
      "text/plain": [
       "'/Users/joshuahogge/Projects/tiredLandlords/2019-09-24'"
      ]
     },
     "execution_count": 6,
     "metadata": {},
     "output_type": "execute_result"
    }
   ],
   "source": [
    "os.chdir(save_dir)\n",
    "os.getcwd()"
   ]
  },
  {
   "cell_type": "code",
   "execution_count": 135,
   "metadata": {},
   "outputs": [],
   "source": [
    "import csv\n",
    "import glob\n",
    "\n",
    "# Adding a header to each file\n",
    "path = r'/Users/joshuahogge/Projects/tiredLandlords/2019-09-24' # use your path\n",
    "all_files = glob.glob(path + \"/*.csv\")\n",
    "\n",
    "for filename in all_files:\n",
    "    with open(filename, newline='') as f:\n",
    "        r = csv.reader(f)\n",
    "        data = [line for line in r]\n",
    "    with open(filename,'w',newline='') as f:\n",
    "        w = csv.writer(f)\n",
    "        w.writerow(['Case Number', 'Name', 'Date of Birth', 'Party Type', 'Court', \n",
    "                        'Case Type', 'Case Status', 'Filing Date', 'Case Caption'])\n",
    "        w.writerows(data)"
   ]
  },
  {
   "cell_type": "code",
   "execution_count": 136,
   "metadata": {},
   "outputs": [
    {
     "data": {
      "text/plain": [
       "(2129, 8)"
      ]
     },
     "execution_count": 136,
     "metadata": {},
     "output_type": "execute_result"
    }
   ],
   "source": [
    "import pandas as pd\n",
    "# Concatenate csv to single dataframe\n",
    "df = pd.concat([pd.read_csv(f, index_col=0) for f in all_files])\n",
    "df.shape"
   ]
  },
  {
   "cell_type": "markdown",
   "metadata": {},
   "source": [
    "# Filtering down to the good stuff"
   ]
  },
  {
   "cell_type": "code",
   "execution_count": 137,
   "metadata": {},
   "outputs": [
    {
     "data": {
      "text/plain": [
       "(2129, 8)"
      ]
     },
     "execution_count": 137,
     "metadata": {},
     "output_type": "execute_result"
    }
   ],
   "source": [
    "df.shape"
   ]
  },
  {
   "cell_type": "code",
   "execution_count": 138,
   "metadata": {},
   "outputs": [
    {
     "data": {
      "text/html": [
       "<div>\n",
       "<style scoped>\n",
       "    .dataframe tbody tr th:only-of-type {\n",
       "        vertical-align: middle;\n",
       "    }\n",
       "\n",
       "    .dataframe tbody tr th {\n",
       "        vertical-align: top;\n",
       "    }\n",
       "\n",
       "    .dataframe thead th {\n",
       "        text-align: right;\n",
       "    }\n",
       "</style>\n",
       "<table border=\"1\" class=\"dataframe\">\n",
       "  <thead>\n",
       "    <tr style=\"text-align: right;\">\n",
       "      <th></th>\n",
       "      <th>Name</th>\n",
       "      <th>isPerson</th>\n",
       "      <th>Party Type</th>\n",
       "      <th>Court</th>\n",
       "      <th>Case Type</th>\n",
       "      <th>Case Status</th>\n",
       "      <th>Filing Date</th>\n",
       "      <th>Case Caption</th>\n",
       "    </tr>\n",
       "    <tr>\n",
       "      <th>Case Number</th>\n",
       "      <th></th>\n",
       "      <th></th>\n",
       "      <th></th>\n",
       "      <th></th>\n",
       "      <th></th>\n",
       "      <th></th>\n",
       "      <th></th>\n",
       "      <th></th>\n",
       "    </tr>\n",
       "  </thead>\n",
       "  <tbody>\n",
       "    <tr>\n",
       "      <td>D042LT18007202</td>\n",
       "      <td>Mason, Christy</td>\n",
       "      <td>NaN</td>\n",
       "      <td>Plaintiff</td>\n",
       "      <td>Charles County District Court</td>\n",
       "      <td>FTPR</td>\n",
       "      <td>Open</td>\n",
       "      <td>08/26/2019</td>\n",
       "      <td>CHRISTY MASON vs. STEVE MCFARLANE, et al.</td>\n",
       "    </tr>\n",
       "    <tr>\n",
       "      <td>D042LT19002704</td>\n",
       "      <td>Md Property Management, Llc</td>\n",
       "      <td>NaN</td>\n",
       "      <td>Plaintiff</td>\n",
       "      <td>Charles County District Court</td>\n",
       "      <td>FTPR</td>\n",
       "      <td>Open</td>\n",
       "      <td>08/06/2019</td>\n",
       "      <td>MD PROPERTY MANAGEMENT, LLC vs. BREANNA PARKER...</td>\n",
       "    </tr>\n",
       "    <tr>\n",
       "      <td>D042LT19002670</td>\n",
       "      <td>Bailey, Vincent</td>\n",
       "      <td>NaN</td>\n",
       "      <td>Plaintiff</td>\n",
       "      <td>Charles County District Court</td>\n",
       "      <td>FTPR</td>\n",
       "      <td>Open</td>\n",
       "      <td>08/05/2019</td>\n",
       "      <td>VINCENT BAILEY vs. BROOKE GRAY, et al.</td>\n",
       "    </tr>\n",
       "    <tr>\n",
       "      <td>D042LT19002042</td>\n",
       "      <td>Banks, Curtis</td>\n",
       "      <td>NaN</td>\n",
       "      <td>Plaintiff</td>\n",
       "      <td>Charles County District Court</td>\n",
       "      <td>FTPR</td>\n",
       "      <td>Closed</td>\n",
       "      <td>08/02/2019</td>\n",
       "      <td>CURTIS BANKS vs. KENDALL BROOKS</td>\n",
       "    </tr>\n",
       "    <tr>\n",
       "      <td>D042LT19002626</td>\n",
       "      <td>Beckham, Zachriell</td>\n",
       "      <td>NaN</td>\n",
       "      <td>Plaintiff</td>\n",
       "      <td>Charles County District Court</td>\n",
       "      <td>FTPR</td>\n",
       "      <td>Closed</td>\n",
       "      <td>08/08/2019</td>\n",
       "      <td>ZACHRIELL BECKHAM vs. STEPHANIE VAUGHN, et al.</td>\n",
       "    </tr>\n",
       "    <tr>\n",
       "      <td>...</td>\n",
       "      <td>...</td>\n",
       "      <td>...</td>\n",
       "      <td>...</td>\n",
       "      <td>...</td>\n",
       "      <td>...</td>\n",
       "      <td>...</td>\n",
       "      <td>...</td>\n",
       "      <td>...</td>\n",
       "    </tr>\n",
       "    <tr>\n",
       "      <td>D042LT19003008</td>\n",
       "      <td>Lee, Dana</td>\n",
       "      <td>NaN</td>\n",
       "      <td>Plaintiff</td>\n",
       "      <td>Charles County District Court</td>\n",
       "      <td>FTPR</td>\n",
       "      <td>Closed</td>\n",
       "      <td>08/22/2019</td>\n",
       "      <td>DANA LEE vs. JUNITA FRIPP</td>\n",
       "    </tr>\n",
       "    <tr>\n",
       "      <td>D042LT19001602</td>\n",
       "      <td>Legg, Daniel S</td>\n",
       "      <td>NaN</td>\n",
       "      <td>Plaintiff</td>\n",
       "      <td>Charles County District Court</td>\n",
       "      <td>FTPR</td>\n",
       "      <td>Closed</td>\n",
       "      <td>07/30/2019</td>\n",
       "      <td>DANIEL LEGG vs. AYRA JACKSON, et al.</td>\n",
       "    </tr>\n",
       "    <tr>\n",
       "      <td>D042LT19002043</td>\n",
       "      <td>Catholic Charites Of The Archdicese Of Washington</td>\n",
       "      <td>NaN</td>\n",
       "      <td>Plaintiff</td>\n",
       "      <td>Charles County District Court</td>\n",
       "      <td>FTPR</td>\n",
       "      <td>Closed</td>\n",
       "      <td>08/02/2019</td>\n",
       "      <td>CATHOLIC CHARITES OF THE ARCHDICESE OF WASHING...</td>\n",
       "    </tr>\n",
       "    <tr>\n",
       "      <td>D042LT19002183</td>\n",
       "      <td>Coachman's Landing</td>\n",
       "      <td>NaN</td>\n",
       "      <td>Plaintiff</td>\n",
       "      <td>Charles County District Court</td>\n",
       "      <td>FTPR</td>\n",
       "      <td>Closed</td>\n",
       "      <td>08/29/2019</td>\n",
       "      <td>COACHMAN'S LANDING vs. LASHAWN THOMAS, et al.</td>\n",
       "    </tr>\n",
       "    <tr>\n",
       "      <td>D042LT19002969</td>\n",
       "      <td>Courtney, Sonya K Maek</td>\n",
       "      <td>NaN</td>\n",
       "      <td>Plaintiff</td>\n",
       "      <td>Charles County District Court</td>\n",
       "      <td>FTPR</td>\n",
       "      <td>Closed</td>\n",
       "      <td>08/22/2019</td>\n",
       "      <td>SONYA COURTNEY vs. JEFFREY STEVENSON, et al.</td>\n",
       "    </tr>\n",
       "  </tbody>\n",
       "</table>\n",
       "<p>89 rows × 8 columns</p>\n",
       "</div>"
      ],
      "text/plain": [
       "                                                             Name isPerson  \\\n",
       "Case Number                                                                  \n",
       "D042LT18007202                                     Mason, Christy      NaN   \n",
       "D042LT19002704                        Md Property Management, Llc      NaN   \n",
       "D042LT19002670                                    Bailey, Vincent      NaN   \n",
       "D042LT19002042                                      Banks, Curtis      NaN   \n",
       "D042LT19002626                                 Beckham, Zachriell      NaN   \n",
       "...                                                           ...      ...   \n",
       "D042LT19003008                                          Lee, Dana      NaN   \n",
       "D042LT19001602                                     Legg, Daniel S      NaN   \n",
       "D042LT19002043  Catholic Charites Of The Archdicese Of Washington      NaN   \n",
       "D042LT19002183                                 Coachman's Landing      NaN   \n",
       "D042LT19002969                             Courtney, Sonya K Maek      NaN   \n",
       "\n",
       "               Party Type                          Court Case Type  \\\n",
       "Case Number                                                          \n",
       "D042LT18007202  Plaintiff  Charles County District Court      FTPR   \n",
       "D042LT19002704  Plaintiff  Charles County District Court      FTPR   \n",
       "D042LT19002670  Plaintiff  Charles County District Court      FTPR   \n",
       "D042LT19002042  Plaintiff  Charles County District Court      FTPR   \n",
       "D042LT19002626  Plaintiff  Charles County District Court      FTPR   \n",
       "...                   ...                            ...       ...   \n",
       "D042LT19003008  Plaintiff  Charles County District Court      FTPR   \n",
       "D042LT19001602  Plaintiff  Charles County District Court      FTPR   \n",
       "D042LT19002043  Plaintiff  Charles County District Court      FTPR   \n",
       "D042LT19002183  Plaintiff  Charles County District Court      FTPR   \n",
       "D042LT19002969  Plaintiff  Charles County District Court      FTPR   \n",
       "\n",
       "               Case Status Filing Date  \\\n",
       "Case Number                              \n",
       "D042LT18007202        Open  08/26/2019   \n",
       "D042LT19002704        Open  08/06/2019   \n",
       "D042LT19002670        Open  08/05/2019   \n",
       "D042LT19002042      Closed  08/02/2019   \n",
       "D042LT19002626      Closed  08/08/2019   \n",
       "...                    ...         ...   \n",
       "D042LT19003008      Closed  08/22/2019   \n",
       "D042LT19001602      Closed  07/30/2019   \n",
       "D042LT19002043      Closed  08/02/2019   \n",
       "D042LT19002183      Closed  08/29/2019   \n",
       "D042LT19002969      Closed  08/22/2019   \n",
       "\n",
       "                                                     Case Caption  \n",
       "Case Number                                                        \n",
       "D042LT18007202          CHRISTY MASON vs. STEVE MCFARLANE, et al.  \n",
       "D042LT19002704  MD PROPERTY MANAGEMENT, LLC vs. BREANNA PARKER...  \n",
       "D042LT19002670             VINCENT BAILEY vs. BROOKE GRAY, et al.  \n",
       "D042LT19002042                    CURTIS BANKS vs. KENDALL BROOKS  \n",
       "D042LT19002626     ZACHRIELL BECKHAM vs. STEPHANIE VAUGHN, et al.  \n",
       "...                                                           ...  \n",
       "D042LT19003008                          DANA LEE vs. JUNITA FRIPP  \n",
       "D042LT19001602               DANIEL LEGG vs. AYRA JACKSON, et al.  \n",
       "D042LT19002043  CATHOLIC CHARITES OF THE ARCHDICESE OF WASHING...  \n",
       "D042LT19002183      COACHMAN'S LANDING vs. LASHAWN THOMAS, et al.  \n",
       "D042LT19002969       SONYA COURTNEY vs. JEFFREY STEVENSON, et al.  \n",
       "\n",
       "[89 rows x 8 columns]"
      ]
     },
     "execution_count": 138,
     "metadata": {},
     "output_type": "execute_result"
    }
   ],
   "source": [
    "da = df[df['Case Type'] == 'FTPR'] # Failure to Pay Rent\n",
    "da"
   ]
  },
  {
   "cell_type": "markdown",
   "metadata": {},
   "source": [
    "# Getting case data"
   ]
  },
  {
   "cell_type": "code",
   "execution_count": 60,
   "metadata": {},
   "outputs": [
    {
     "name": "stdout",
     "output_type": "stream",
     "text": [
      "\n",
      "['CaseSearch', 'District Court of Maryland', '']\n",
      "\n",
      "['Case Information']\n",
      "\n",
      "['Court System:', 'District Court For Charles County - Civil']\n",
      "\n",
      "['Location:', 'Charles']\n",
      "\n",
      "['Case Number:', 'D-042-LT-18-007202']\n",
      "\n",
      "['Title:', 'CHRISTY MASON vs. STEVE MCFARLANE, et al.']\n",
      "\n",
      "['Case Type:', 'Failure to Pay Rent']\n",
      "\n",
      "['Filing Date:', '08/26/2019']\n",
      "\n",
      "['Case Status:', 'Open']\n",
      "\n",
      "[]\n",
      "\n",
      "['Involved Parties Information']\n",
      "\n",
      "['Name:', 'MASON, CHRISTY']\n",
      "\n",
      "['Address:', '13535 WAVERLY RD']\n",
      "\n",
      "['City:', 'NEWBURGState:MDZip Code:20664']\n",
      "\n",
      "['Name:', 'MCFARLANE, STEVE']\n",
      "\n",
      "['Address:', '2165 PINEVIEW CT']\n",
      "\n",
      "['City:', 'WALDORFState:MDZip Code:20602']\n",
      "\n",
      "['Name:', 'WASHINGTON, DEBBIE']\n",
      "\n",
      "['Address:', '2165 PINEVIEW CT']\n",
      "\n",
      "['City:', 'WALDORFState:MDZip Code:20602']\n",
      "\n",
      "['Document Information']\n",
      "\n",
      "['File Date:', '11/19/2018']\n",
      "\n",
      "['Filed By:', '']\n",
      "\n",
      "['Document Name:', 'Complaint / Petition - Landlord Tenant']\n",
      "\n",
      "['Comment:', '']\n",
      "\n",
      "['File Date:', '12/10/2018']\n",
      "\n",
      "['Filed By:', '']\n",
      "\n",
      "['Document Name:', 'Landlord Tenant Disposition']\n",
      "\n",
      "['Comment:', '']\n",
      "{'Court System:': ['District Court For Charles County - Civil'], 'Location:': ['Charles'], 'Case Number:': ['D-042-LT-18-007202'], 'Title:': ['CHRISTY MASON vs. STEVE MCFARLANE, et al.'], 'Case Type:': ['Failure to Pay Rent'], 'Filing Date:': ['08/26/2019'], 'Case Status:': ['Open'], 'Name:': ['WASHINGTON, DEBBIE'], 'Address:': ['2165 PINEVIEW CT'], 'City:': ['WALDORFState:MDZip Code:20602'], 'File Date:': ['12/10/2018'], 'Filed By:': [''], 'Document Name:': ['Landlord Tenant Disposition'], 'Comment:': ['']}\n"
     ]
    }
   ],
   "source": [
    "# case_data_df = pd.DataFrame()\n",
    "\n",
    "# for index, row in da.iterrows():\n",
    "#     print(index, row['Court'])\n",
    "\n",
    "# Enter case data on query page\n",
    "# court = row['Court'].split(' ')[0]\n",
    "court = 'Charles'\n",
    "driver.find_element_by_xpath(\"//select[@name='locationCode']/option[contains(text(), '%s')]\" % court).click()\n",
    "case_number = driver.find_element_by_name(\"caseId\")\n",
    "case_number.clear()\n",
    "# case_number.send_keys(str(da['Case Number'][0])) ## Change to variable\n",
    "case_number.send_keys('D042LT18007202')\n",
    "try:\n",
    "    driver.find_element_by_xpath(\"//input[@name='action' and @value='Get Case']\").click()\n",
    "except:\n",
    "    print('Case number %s not found' % str(da['Case Number'][2])) ## Change to same variable above\n",
    "    \n",
    "# print(driver.page_source)\n",
    "\n",
    "\n",
    "\n",
    "# # Mine data\n",
    "# case_data = []\n",
    "# for tr in driver.find_elements_by_xpath('//table//tr'):\n",
    "#     tds = tr.find_elements_by_tag_name('td')\n",
    "#     print([td.text for td in tds])\n",
    "#     case_data.append([td.text for td in tds])\n",
    "# case_clean = []\n",
    "# # Cleaning out header info\n",
    "# [case_clean.append(a) for a in case_data if len(a) == 2]\n",
    "# # Casting do dict for import into pandas\n",
    "# case_dict = {d[0]: d[1:] for d in case_clean}\n",
    "# print(case_dict)\n"
   ]
  },
  {
   "cell_type": "code",
   "execution_count": 93,
   "metadata": {},
   "outputs": [
    {
     "name": "stdout",
     "output_type": "stream",
     "text": [
      "[['MASON, CHRISTY']]\n"
     ]
    }
   ],
   "source": [
    "# Selenium is bad at finding data in relation to headers, so this is Beautiful Soup finding all of\n",
    "# the landlord names, which will help pick out the landlor info after the table data is scraped in the next step.\n",
    "landlords = []\n",
    "for h5 in soup.find_all('h5'):\n",
    "    if h5.text == 'Landlord / Plaintiff':\n",
    "        landlords.append(h5.find_next('span', 'Value').contents)\n",
    "print(landlords)"
   ]
  },
  {
   "cell_type": "code",
   "execution_count": 147,
   "metadata": {},
   "outputs": [
    {
     "name": "stdout",
     "output_type": "stream",
     "text": [
      "[['Court System:', 'District Court For Charles County - Civil'], ['Location:', 'Charles'], ['Case Number:', 'D-042-LT-18-007202'], ['Title:', 'CHRISTY MASON vs. STEVE MCFARLANE, et al.'], ['Case Type:', 'Failure to Pay Rent'], ['Filing Date:', '08/26/2019'], ['Case Status:', 'Open'], ['Name:7', 'MASON, CHRISTY'], ['Address:8', '13535 WAVERLY RD'], ['City:9', 'NEWBURGState:MDZip Code:20664'], ['Name:10', 'MCFARLANE, STEVE'], ['Address:11', '2165 PINEVIEW CT'], ['City:12', 'WALDORFState:MDZip Code:20602'], ['Name:13', 'WASHINGTON, DEBBIE'], ['Address:14', '2165 PINEVIEW CT'], ['City:15', 'WALDORFState:MDZip Code:20602'], ['File Date:', '11/19/2018'], ['Filed By:', ''], ['Document Name:', 'Complaint / Petition - Landlord Tenant'], ['Comment:', ''], ['File Date:', '12/10/2018'], ['Filed By:', ''], ['Document Name:', 'Landlord Tenant Disposition'], ['Comment:', '']]\n",
      "{'Court System:': ['District Court For Charles County - Civil'], 'Location:': ['Charles'], 'Case Number:': ['D-042-LT-18-007202'], 'Title:': ['CHRISTY MASON vs. STEVE MCFARLANE, et al.'], 'Case Type:': ['Failure to Pay Rent'], 'Filing Date:': ['08/26/2019'], 'Case Status:': ['Open'], 'Name:7': ['MASON, CHRISTY'], 'Address:8': ['13535 WAVERLY RD'], 'City:9': ['NEWBURGState:MDZip Code:20664'], 'Name:10': ['MCFARLANE, STEVE'], 'Address:11': ['2165 PINEVIEW CT'], 'City:12': ['WALDORFState:MDZip Code:20602'], 'Name:13': ['WASHINGTON, DEBBIE'], 'Address:14': ['2165 PINEVIEW CT'], 'City:15': ['WALDORFState:MDZip Code:20602'], 'File Date:': ['12/10/2018'], 'Filed By:': [''], 'Document Name:': ['Landlord Tenant Disposition'], 'Comment:': ['']}\n"
     ]
    }
   ],
   "source": [
    "# Mine data\n",
    "case_data = []\n",
    "for tr in driver.find_elements_by_xpath('//table//tr'):\n",
    "    tds = tr.find_elements_by_tag_name('td')\n",
    "    case_data.append([td.text for td in tds])\n",
    "\n",
    "case_clean = []\n",
    "# Cleaning out header info\n",
    "[case_clean.append(a) for a in case_data if len(a) == 2]\n",
    "num_names = 0\n",
    "repeated_info = ['Name:', 'Address:', 'City:']\n",
    "for i in case_clean:\n",
    "    if i[0] in repeated_info:\n",
    "        i[0] = i[0] + str(num_names)\n",
    "    num_names += 1\n",
    "print(case_clean)\n",
    "# Casting do dict for import into pandas\n",
    "case_dict = {d[0]: d[1:] for d in case_clean}\n",
    "print(case_dict)"
   ]
  },
  {
   "cell_type": "code",
   "execution_count": 173,
   "metadata": {},
   "outputs": [],
   "source": [
    "landlords.append(['MCFARLANE, STEVE'])"
   ]
  },
  {
   "cell_type": "code",
   "execution_count": 188,
   "metadata": {},
   "outputs": [
    {
     "name": "stdout",
     "output_type": "stream",
     "text": [
      "{'LL0': [['MASON, CHRISTY'], ['13535 WAVERLY RD'], ['NEWBURGState:MDZip Code:20664']], 'LL1': [['MCFARLANE, STEVE'], ['2165 PINEVIEW CT'], ['WALDORFState:MDZip Code:20602']]}\n"
     ]
    }
   ],
   "source": [
    "ll_contacts = {}\n",
    "num_ll = 0\n",
    "name_index = 0\n",
    "list_keys = list(case_dict.keys())\n",
    "for enum, key in enumerate(list_keys):\n",
    "    if case_dict[key] in landlords:\n",
    "        ll_contacts[\"LL\"+str(num_ll)] = [case_dict[list_keys[enum]], case_dict[list_keys[enum+1]],case_dict[list_keys[enum+2]]]\n",
    "            \n",
    "print(ll_contacts)"
   ]
  },
  {
   "cell_type": "code",
   "execution_count": null,
   "metadata": {},
   "outputs": [],
   "source": []
  },
  {
   "cell_type": "code",
   "execution_count": 251,
   "metadata": {},
   "outputs": [],
   "source": [
    "ds  = pd.DataFrame([case_dict], columns=case_dict.keys())\n",
    "case_data_df = pd.concat([case_data_df, ds], axis =0, sort=False)"
   ]
  },
  {
   "cell_type": "code",
   "execution_count": 252,
   "metadata": {},
   "outputs": [
    {
     "data": {
      "text/html": [
       "<div>\n",
       "<style scoped>\n",
       "    .dataframe tbody tr th:only-of-type {\n",
       "        vertical-align: middle;\n",
       "    }\n",
       "\n",
       "    .dataframe tbody tr th {\n",
       "        vertical-align: top;\n",
       "    }\n",
       "\n",
       "    .dataframe thead th {\n",
       "        text-align: right;\n",
       "    }\n",
       "</style>\n",
       "<table border=\"1\" class=\"dataframe\">\n",
       "  <thead>\n",
       "    <tr style=\"text-align: right;\">\n",
       "      <th></th>\n",
       "      <th>Court System:</th>\n",
       "      <th>Location:</th>\n",
       "      <th>Case Number:</th>\n",
       "      <th>Title:</th>\n",
       "      <th>Case Type:</th>\n",
       "      <th>Filing Date:</th>\n",
       "      <th>Case Status:</th>\n",
       "      <th>Name:</th>\n",
       "      <th>Address:</th>\n",
       "      <th>City:</th>\n",
       "      <th>File Date:</th>\n",
       "      <th>Filed By:</th>\n",
       "      <th>Document Name:</th>\n",
       "      <th>Comment:</th>\n",
       "    </tr>\n",
       "  </thead>\n",
       "  <tbody>\n",
       "    <tr>\n",
       "      <td>0</td>\n",
       "      <td>[District Court For Charles County - Civil]</td>\n",
       "      <td>[Charles]</td>\n",
       "      <td>[D-042-LT-19-002670]</td>\n",
       "      <td>[VINCENT BAILEY vs. BROOKE GRAY, et al.]</td>\n",
       "      <td>[Failure to Pay Rent]</td>\n",
       "      <td>[08/05/2019]</td>\n",
       "      <td>[Open]</td>\n",
       "      <td>[BAILEY, VINCENT]</td>\n",
       "      <td>[1628 PIN OAK DR]</td>\n",
       "      <td>[WALDORFState:MDZip Code:20602]</td>\n",
       "      <td>[08/05/2019]</td>\n",
       "      <td>[]</td>\n",
       "      <td>[Complaint / Petition - Landlord Tenant]</td>\n",
       "      <td>[]</td>\n",
       "    </tr>\n",
       "  </tbody>\n",
       "</table>\n",
       "</div>"
      ],
      "text/plain": [
       "                                 Court System:  Location:  \\\n",
       "0  [District Court For Charles County - Civil]  [Charles]   \n",
       "\n",
       "           Case Number:                                    Title:  \\\n",
       "0  [D-042-LT-19-002670]  [VINCENT BAILEY vs. BROOKE GRAY, et al.]   \n",
       "\n",
       "              Case Type:  Filing Date: Case Status:              Name:  \\\n",
       "0  [Failure to Pay Rent]  [08/05/2019]       [Open]  [BAILEY, VINCENT]   \n",
       "\n",
       "            Address:                            City:    File Date: Filed By:  \\\n",
       "0  [1628 PIN OAK DR]  [WALDORFState:MDZip Code:20602]  [08/05/2019]        []   \n",
       "\n",
       "                             Document Name: Comment:  \n",
       "0  [Complaint / Petition - Landlord Tenant]       []  "
      ]
     },
     "execution_count": 252,
     "metadata": {},
     "output_type": "execute_result"
    }
   ],
   "source": [
    "ds"
   ]
  },
  {
   "cell_type": "code",
   "execution_count": 253,
   "metadata": {},
   "outputs": [
    {
     "data": {
      "text/html": [
       "<div>\n",
       "<style scoped>\n",
       "    .dataframe tbody tr th:only-of-type {\n",
       "        vertical-align: middle;\n",
       "    }\n",
       "\n",
       "    .dataframe tbody tr th {\n",
       "        vertical-align: top;\n",
       "    }\n",
       "\n",
       "    .dataframe thead th {\n",
       "        text-align: right;\n",
       "    }\n",
       "</style>\n",
       "<table border=\"1\" class=\"dataframe\">\n",
       "  <thead>\n",
       "    <tr style=\"text-align: right;\">\n",
       "      <th></th>\n",
       "      <th>Court System:</th>\n",
       "      <th>Location:</th>\n",
       "      <th>Case Number:</th>\n",
       "      <th>Title:</th>\n",
       "      <th>Case Type:</th>\n",
       "      <th>Filing Date:</th>\n",
       "      <th>Case Status:</th>\n",
       "      <th>Name:</th>\n",
       "      <th>Address:</th>\n",
       "      <th>City:</th>\n",
       "      <th>File Date:</th>\n",
       "      <th>Filed By:</th>\n",
       "      <th>Document Name:</th>\n",
       "      <th>Comment:</th>\n",
       "    </tr>\n",
       "  </thead>\n",
       "  <tbody>\n",
       "    <tr>\n",
       "      <td>0</td>\n",
       "      <td>[District Court For Charles County - Civil]</td>\n",
       "      <td>[Charles]</td>\n",
       "      <td>[D-042-LT-18-007202]</td>\n",
       "      <td>[CHRISTY MASON vs. STEVE MCFARLANE, et al.]</td>\n",
       "      <td>[Failure to Pay Rent]</td>\n",
       "      <td>[08/26/2019]</td>\n",
       "      <td>[Open]</td>\n",
       "      <td>[WASHINGTON, DEBBIE]</td>\n",
       "      <td>[2165 PINEVIEW CT]</td>\n",
       "      <td>[WALDORFState:MDZip Code:20602]</td>\n",
       "      <td>[12/10/2018]</td>\n",
       "      <td>[]</td>\n",
       "      <td>[Landlord Tenant Disposition]</td>\n",
       "      <td>[]</td>\n",
       "    </tr>\n",
       "    <tr>\n",
       "      <td>0</td>\n",
       "      <td>[District Court For Charles County - Civil]</td>\n",
       "      <td>[Charles]</td>\n",
       "      <td>[D-042-LT-18-007202]</td>\n",
       "      <td>[CHRISTY MASON vs. STEVE MCFARLANE, et al.]</td>\n",
       "      <td>[Failure to Pay Rent]</td>\n",
       "      <td>[08/26/2019]</td>\n",
       "      <td>[Open]</td>\n",
       "      <td>[WASHINGTON, DEBBIE]</td>\n",
       "      <td>[2165 PINEVIEW CT]</td>\n",
       "      <td>[WALDORFState:MDZip Code:20602]</td>\n",
       "      <td>[12/10/2018]</td>\n",
       "      <td>[]</td>\n",
       "      <td>[Landlord Tenant Disposition]</td>\n",
       "      <td>[]</td>\n",
       "    </tr>\n",
       "    <tr>\n",
       "      <td>0</td>\n",
       "      <td>[District Court For Charles County - Civil]</td>\n",
       "      <td>[Charles]</td>\n",
       "      <td>[D-042-LT-19-002704]</td>\n",
       "      <td>[MD PROPERTY MANAGEMENT, LLC vs. BREANNA PARKE...</td>\n",
       "      <td>[Failure to Pay Rent]</td>\n",
       "      <td>[08/06/2019]</td>\n",
       "      <td>[Open]</td>\n",
       "      <td>[MD PROPERTY MANAGEMENT, LLC]</td>\n",
       "      <td>[14340 OLD MARLBORO PIKE]</td>\n",
       "      <td>[UPPER MARLBOROState:MDZip Code:20772]</td>\n",
       "      <td>[06/06/2019]</td>\n",
       "      <td>[]</td>\n",
       "      <td>[Petition - For Warrant of Restitution Filed]</td>\n",
       "      <td>[]</td>\n",
       "    </tr>\n",
       "    <tr>\n",
       "      <td>0</td>\n",
       "      <td>[District Court For Charles County - Civil]</td>\n",
       "      <td>[Charles]</td>\n",
       "      <td>[D-042-LT-19-002670]</td>\n",
       "      <td>[VINCENT BAILEY vs. BROOKE GRAY, et al.]</td>\n",
       "      <td>[Failure to Pay Rent]</td>\n",
       "      <td>[08/05/2019]</td>\n",
       "      <td>[Open]</td>\n",
       "      <td>[BAILEY, VINCENT]</td>\n",
       "      <td>[1628 PIN OAK DR]</td>\n",
       "      <td>[WALDORFState:MDZip Code:20602]</td>\n",
       "      <td>[08/05/2019]</td>\n",
       "      <td>[]</td>\n",
       "      <td>[Complaint / Petition - Landlord Tenant]</td>\n",
       "      <td>[]</td>\n",
       "    </tr>\n",
       "  </tbody>\n",
       "</table>\n",
       "</div>"
      ],
      "text/plain": [
       "                                 Court System:  Location:  \\\n",
       "0  [District Court For Charles County - Civil]  [Charles]   \n",
       "0  [District Court For Charles County - Civil]  [Charles]   \n",
       "0  [District Court For Charles County - Civil]  [Charles]   \n",
       "0  [District Court For Charles County - Civil]  [Charles]   \n",
       "\n",
       "           Case Number:                                             Title:  \\\n",
       "0  [D-042-LT-18-007202]        [CHRISTY MASON vs. STEVE MCFARLANE, et al.]   \n",
       "0  [D-042-LT-18-007202]        [CHRISTY MASON vs. STEVE MCFARLANE, et al.]   \n",
       "0  [D-042-LT-19-002704]  [MD PROPERTY MANAGEMENT, LLC vs. BREANNA PARKE...   \n",
       "0  [D-042-LT-19-002670]           [VINCENT BAILEY vs. BROOKE GRAY, et al.]   \n",
       "\n",
       "              Case Type:  Filing Date: Case Status:  \\\n",
       "0  [Failure to Pay Rent]  [08/26/2019]       [Open]   \n",
       "0  [Failure to Pay Rent]  [08/26/2019]       [Open]   \n",
       "0  [Failure to Pay Rent]  [08/06/2019]       [Open]   \n",
       "0  [Failure to Pay Rent]  [08/05/2019]       [Open]   \n",
       "\n",
       "                           Name:                   Address:  \\\n",
       "0           [WASHINGTON, DEBBIE]         [2165 PINEVIEW CT]   \n",
       "0           [WASHINGTON, DEBBIE]         [2165 PINEVIEW CT]   \n",
       "0  [MD PROPERTY MANAGEMENT, LLC]  [14340 OLD MARLBORO PIKE]   \n",
       "0              [BAILEY, VINCENT]          [1628 PIN OAK DR]   \n",
       "\n",
       "                                    City:    File Date: Filed By:  \\\n",
       "0         [WALDORFState:MDZip Code:20602]  [12/10/2018]        []   \n",
       "0         [WALDORFState:MDZip Code:20602]  [12/10/2018]        []   \n",
       "0  [UPPER MARLBOROState:MDZip Code:20772]  [06/06/2019]        []   \n",
       "0         [WALDORFState:MDZip Code:20602]  [08/05/2019]        []   \n",
       "\n",
       "                                  Document Name: Comment:  \n",
       "0                  [Landlord Tenant Disposition]       []  \n",
       "0                  [Landlord Tenant Disposition]       []  \n",
       "0  [Petition - For Warrant of Restitution Filed]       []  \n",
       "0       [Complaint / Petition - Landlord Tenant]       []  "
      ]
     },
     "execution_count": 253,
     "metadata": {},
     "output_type": "execute_result"
    }
   ],
   "source": [
    "case_data_df"
   ]
  },
  {
   "cell_type": "code",
   "execution_count": 190,
   "metadata": {},
   "outputs": [
    {
     "data": {
      "text/html": [
       "<div>\n",
       "<style scoped>\n",
       "    .dataframe tbody tr th:only-of-type {\n",
       "        vertical-align: middle;\n",
       "    }\n",
       "\n",
       "    .dataframe tbody tr th {\n",
       "        vertical-align: top;\n",
       "    }\n",
       "\n",
       "    .dataframe thead th {\n",
       "        text-align: right;\n",
       "    }\n",
       "</style>\n",
       "<table border=\"1\" class=\"dataframe\">\n",
       "  <thead>\n",
       "    <tr style=\"text-align: right;\">\n",
       "      <th></th>\n",
       "      <th>Court System:</th>\n",
       "      <th>Location:</th>\n",
       "      <th>Case Number:</th>\n",
       "      <th>Title:</th>\n",
       "      <th>Case Type:</th>\n",
       "      <th>Filing Date:</th>\n",
       "      <th>Case Status:</th>\n",
       "      <th>Name:</th>\n",
       "      <th>Address:</th>\n",
       "      <th>City:</th>\n",
       "      <th>File Date:</th>\n",
       "      <th>Filed By:</th>\n",
       "      <th>Document Name:</th>\n",
       "      <th>Comment:</th>\n",
       "    </tr>\n",
       "  </thead>\n",
       "  <tbody>\n",
       "    <tr>\n",
       "      <td>0</td>\n",
       "      <td>District Court For Charles County - Civil</td>\n",
       "      <td>Charles</td>\n",
       "      <td>D-042-LT-18-007202</td>\n",
       "      <td>CHRISTY MASON vs. STEVE MCFARLANE, et al.</td>\n",
       "      <td>Failure to Pay Rent</td>\n",
       "      <td>08/26/2019</td>\n",
       "      <td>Open</td>\n",
       "      <td>WASHINGTON, DEBBIE</td>\n",
       "      <td>2165 PINEVIEW CT</td>\n",
       "      <td>WALDORFState:MDZip Code:20602</td>\n",
       "      <td>12/10/2018</td>\n",
       "      <td></td>\n",
       "      <td>Landlord Tenant Disposition</td>\n",
       "      <td></td>\n",
       "    </tr>\n",
       "  </tbody>\n",
       "</table>\n",
       "</div>"
      ],
      "text/plain": [
       "                               Court System: Location:        Case Number:  \\\n",
       "0  District Court For Charles County - Civil   Charles  D-042-LT-18-007202   \n",
       "\n",
       "                                      Title:           Case Type:  \\\n",
       "0  CHRISTY MASON vs. STEVE MCFARLANE, et al.  Failure to Pay Rent   \n",
       "\n",
       "  Filing Date: Case Status:               Name:          Address:  \\\n",
       "0   08/26/2019         Open  WASHINGTON, DEBBIE  2165 PINEVIEW CT   \n",
       "\n",
       "                           City:  File Date: Filed By:  \\\n",
       "0  WALDORFState:MDZip Code:20602  12/10/2018             \n",
       "\n",
       "                Document Name: Comment:  \n",
       "0  Landlord Tenant Disposition           "
      ]
     },
     "execution_count": 190,
     "metadata": {},
     "output_type": "execute_result"
    }
   ],
   "source": []
  },
  {
   "cell_type": "code",
   "execution_count": 98,
   "metadata": {},
   "outputs": [
    {
     "name": "stdout",
     "output_type": "stream",
     "text": [
      "{'Location:': ['Charles'], 'Case Number:': ['D-042-LT-18-007202'], 'Title:': ['CHRISTY MASON vs. STEVE MCFARLANE, et al.'], 'Case Type:': ['Failure to Pay Rent'], 'Filing Date:': ['08/26/2019'], 'Case Status:': ['Open'], 'Name:': ['WASHINGTON, DEBBIE'], 'Address:': ['2165 PINEVIEW CT'], 'City:': ['WALDORFState:MDZip Code:20602'], 'File Date:': ['12/10/2018'], 'Filed By:': [''], 'Document Name:': ['Landlord Tenant Disposition'], 'Comment:': ['']}\n"
     ]
    }
   ],
   "source": []
  },
  {
   "cell_type": "code",
   "execution_count": 106,
   "metadata": {},
   "outputs": [
    {
     "data": {
      "text/plain": [
       "dict_keys(['CaseSearch', 'Court System:', 'Location:', 'Case Number:', 'Title:', 'Case Type:', 'Filing Date:', 'Case Status:', 'Name:', 'Address:', 'City:', 'File Date:', 'Filed By:', 'Document Name:', 'Comment:'])"
      ]
     },
     "execution_count": 106,
     "metadata": {},
     "output_type": "execute_result"
    }
   ],
   "source": [
    "d.keys()"
   ]
  },
  {
   "cell_type": "code",
   "execution_count": 126,
   "metadata": {},
   "outputs": [
    {
     "name": "stdout",
     "output_type": "stream",
     "text": [
      "['DEBBIE']\n"
     ]
    }
   ],
   "source": [
    "ouput = []\n",
    "print(output)\n",
    "\n"
   ]
  },
  {
   "cell_type": "markdown",
   "metadata": {},
   "source": [
    "## Classify each row as a person (or business)"
   ]
  },
  {
   "cell_type": "code",
   "execution_count": 139,
   "metadata": {},
   "outputs": [],
   "source": [
    "da.to_csv(os.path.join(save_dir,'for_Classification.csv'))"
   ]
  },
  {
   "cell_type": "code",
   "execution_count": 150,
   "metadata": {},
   "outputs": [],
   "source": [
    "da = pd.read_csv(os.path.join(save_dir, 'classified1.csv'))"
   ]
  },
  {
   "cell_type": "markdown",
   "metadata": {},
   "source": [
    "## Writing to order of click2mail template"
   ]
  },
  {
   "cell_type": "code",
   "execution_count": 179,
   "metadata": {},
   "outputs": [
    {
     "name": "stdout",
     "output_type": "stream",
     "text": [
      "['DEBBIE', 'WASHINGTON', 'WASHINGTON, DEBBIE', '2165 PINEVIEW CT', 'WALDORF', 'MD', '20602']\n"
     ]
    }
   ],
   "source": [
    "\n",
    "output = []\n",
    "# if is Person, parse First and Last name, else populate Organization\n",
    "# if isPerson == 1:\n",
    "    # First Name\n",
    "output.append(d['Name:'][0].split(\",\")[1][1:])\n",
    "# Last Name\n",
    "output.append(d['Name:'][0].split(\",\")[0])\n",
    "# else:\n",
    "# Organization\n",
    "output.append(d['Name:'][0])\n",
    "# Address 1\n",
    "output.append(d['Address:'][0])\n",
    "# Address 2\n",
    "# Address 3\n",
    "# City\n",
    "city = d['City:'][0].split('State:')[0]\n",
    "output.append(city)\n",
    "# State\n",
    "state = d['City:'][0].split('State:')[1].split('Zip Code:')[0]\n",
    "output.append(state)\n",
    "# Zip\n",
    "mail_zip = d['City:'][0].split('Zip Code:')[1]\n",
    "output.append(mail_zip)\n",
    "# Country_non-US\n",
    "# N/A\n",
    "print(output)\n"
   ]
  },
  {
   "cell_type": "code",
   "execution_count": null,
   "metadata": {},
   "outputs": [],
   "source": []
  }
 ],
 "metadata": {
  "kernelspec": {
   "display_name": "Python 3",
   "language": "python",
   "name": "python3"
  },
  "language_info": {
   "codemirror_mode": {
    "name": "ipython",
    "version": 3
   },
   "file_extension": ".py",
   "mimetype": "text/x-python",
   "name": "python",
   "nbconvert_exporter": "python",
   "pygments_lexer": "ipython3",
   "version": "3.7.4"
  }
 },
 "nbformat": 4,
 "nbformat_minor": 2
}
